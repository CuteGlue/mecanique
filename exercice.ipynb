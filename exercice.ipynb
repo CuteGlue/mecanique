import numpy as np
import math as m
def A():
    return 5
