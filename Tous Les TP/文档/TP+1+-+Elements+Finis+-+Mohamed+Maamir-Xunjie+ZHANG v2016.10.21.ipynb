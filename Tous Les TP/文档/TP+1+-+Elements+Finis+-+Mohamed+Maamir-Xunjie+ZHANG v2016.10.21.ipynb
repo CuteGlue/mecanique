{
 "cells": [
  {
   "cell_type": "markdown",
   "metadata": {},
   "source": [
    "# TP 1 - Méthode des élémenst finis en 1D"
   ]
  },
  {
   "cell_type": "code",
   "execution_count": 240,
   "metadata": {
    "collapsed": false
   },
   "outputs": [
    {
     "data": {
      "application/javascript": [
       "IPython.notebook.set_autosave_interval(60000)"
      ]
     },
     "metadata": {},
     "output_type": "display_data"
    },
    {
     "name": "stdout",
     "output_type": "stream",
     "text": [
      "Autosaving every 60 seconds\n"
     ]
    }
   ],
   "source": [
    "%matplotlib inline\n",
    "%autosave 60\n",
    "import numpy as np\n",
    "import scipy as sp\n",
    "#import scipy.optimize as opt\n",
    "import matplotlib.pyplot as plt"
   ]
  },
  {
   "cell_type": "markdown",
   "metadata": {},
   "source": [
    "\n",
    "## Introduction\n",
    "\n",
    "Dans ce *notebook*, nous allons étudier par la méthode des éléments fini en *1D* les **éfforts de traction** sur une poutre en rotation.\n",
    "Pour se faire, nous allons partir de **l'équation d'équilibre** et des conditions aux limites et donner **la formulation faible** du problème.\n",
    "On étudira une approximation de la solution dans le cas ou la solution est un **polynome d'odre 1** et dans le cas où il est **d'odre 2**.\n",
    "\n",
    "## Problème Physique\n",
    "\n",
    "### Equation d'équilibre\n",
    "\n",
    "Un petit élément $\\Delta r$ est soumis à :\n",
    "1. Force centrifuge : $(\\rho*S(r)*\\omega^2*r)*\\Delta r$\n",
    "2. Efforts internes : $ES(r+\\Delta r)\\frac{du}{dr}|_{r+\\Delta r}-ES(r)\\frac{du}{dr}|_{r}=\\frac{d}{dr}*[ES(r)\\frac{du}{dr}]$\n",
    "\n",
    "Soit l'équation d'équilibre suivante :\n",
    "$$\\frac{d}{dr}(ES(r)\\frac{du}{dr})+(\\rho S(r)\\omega^2)r =0$$\n",
    "\n",
    "### Formulation faible\n",
    "\n",
    "On retrouve cette formulation faible :\n",
    "\n",
    "**Trouver $u(r)$ tel que $u(0)=0$ et $ES(r)\\frac{du}{dr}\\Big|_{r=L}=0$ :\n",
    "$$\\int_0^L \\!ES(r)\\frac{du}{dr}~dr=\\int_0^L \\! (\\rho S(r)\\omega^2r)v(r)~dr$$**\n",
    "\n",
    "### solution Analytique\n",
    "\n",
    "#### Cas Section Constante\n",
    "\n",
    "On retrouve pour une section constrante une solution :\n",
    "$$u(r)_{Sconst}=\\frac{\\rho \\omega^2}{2*E}\\big(L^2 r-\\frac{r^3}{3}\\big)$$\n",
    "\n",
    "#### Cas Section fonction de r \n",
    "Pour une section S fonction de r : $s=s(r)=a*r+b$ avec $a=\\frac{S(L)-S(0)}{L}$ et $b=S(0)$\n",
    "\n",
    "Avec les condition limites:\n",
    "$$u(0)=0$$\n",
    "$$\\frac{du}{dr}\\Big|_{r=L}=0$$\n",
    "On trouve une solution analytique :\n",
    "\n",
    "$$u(r)_{S(r)}=\\frac{\\omega^2 \\rho}{36a^3E}\\Big( ar(-4a^2r^2-3abr+6b^2)-6(b-2aL)(aL+b)^2\\ln(ar+b)+6\\ln(b)(b-2aL)(aL+b)^2 \\Big)$$\n",
    "\n",
    "Résolu avec Wolfram : [This link](https://goo.gl/IB3dHC)\n",
    "\n",
    "## Approximation par éléments finis\n",
    "\n",
    "### Forme de l'approximation dans un maillage\n",
    "\n",
    "Pour un maillage $M^h$ nous avons une aproximation sur un élément $k$ de la forme :\n",
    "$$u^h_{k}=\\Big(\\frac{U(r_{k})-U(r_{k-1})}{r_{k}-r_{k-1}}\\Big)r+(\\frac{r_{k}U(r_{k-1})-r_{k-1}U(r_{k})}{r_{k}-r_{k-1}}\\Big)$$\n",
    "\n",
    "### Matrice A*T=B\n",
    "question 2 et 3"
   ]
  },
  {
   "cell_type": "markdown",
   "metadata": {},
   "source": [
    "## Programme"
   ]
  },
  {
   "cell_type": "code",
   "execution_count": 301,
   "metadata": {
    "collapsed": false
   },
   "outputs": [],
   "source": [
    "#Foction S(r)\n",
    "def section(L,N,k,S0,SL):\n",
    "    a=(SL-S0)/L\n",
    "    b=S0\n",
    "    return ((a*(L/N)*(k-1)+b)+a*(L/N)*k+b)/2\n",
    "\n",
    "#Algorithme de construction de la Matrice A et du Vecteur B\n",
    "def matrixA(E,L,N,S0,SL):\n",
    "    A=np.zeros((N+1,N+1))\n",
    "    h=L/N\n",
    "    S1=section(L,N,1,S0,SL)\n",
    "    SN=section(L,N,N,S0,SL)\n",
    "    A[0,0]= (E*S1)/h\n",
    "    A[0,1]= -(E*S1)/h\n",
    "    A[1,0]= -(E*S1)/h\n",
    "    A[1,1]= (E*S1)/h\n",
    "    i=1\n",
    "    while i<N:\n",
    "        S=section(L,N,i,S0,SL)\n",
    "        A[i,i]=A[i,i]+(E*S)/h\n",
    "        A[i,i+1]=-(E*S)/h\n",
    "        A[i+1,i]=-(E*S)/h\n",
    "        A[i+1,i+1]=(E*S)/h\n",
    "        i=i+1\n",
    "    return A\n",
    "\n",
    "def vecteurB(rho,omega,N,S0,SL):\n",
    "    B=np.zeros(N+1)\n",
    "    h=L/N\n",
    "    S1=section(L,N,1,S0,SL)\n",
    "    SN=section(L,N,N,S0,SL)\n",
    "    R=1*L/N #k-0=0 donc r1\n",
    "    B[0]=rho*omega*omega*S1*h*(R/3)\n",
    "    B[1]=rho*omega*omega*S1*h*(R/6)\n",
    "    i=1\n",
    "    while i<N:\n",
    "        R1=i*L/N\n",
    "        R2=(i+1)*L/N\n",
    "        S=section(L,N,i,S0,SL)\n",
    "        B[i]=B[i]+rho*omega*omega*S*h*(R1/3+R2/6)\n",
    "        B[i+1]=rho*omega*omega*S*h*(R1/3+R2/6)\n",
    "        i=i+1\n",
    "    return B\n",
    "\n"
   ]
  },
  {
   "cell_type": "code",
   "execution_count": 302,
   "metadata": {
    "collapsed": false
   },
   "outputs": [],
   "source": [
    "#Paramettre du problème:\n",
    "\n",
    "S0=16.2\n",
    "SL=6.7\n",
    "L=51.5\n",
    "err=0.076\n",
    "rho=1600\n",
    "E=21300*10**6\n",
    "omega=2*np.pi\n",
    "N=10\n",
    "\n",
    "A=matrixA(E,L,N,S0,SL)\n",
    "B=vecteurB(rho,omega,N,S0,SL)\n",
    "#Condition limite:\n",
    "A[0,0]=1\n",
    "A[0,1]=0\n",
    "B[0]=0\n",
    "\n",
    "#Resolution du sytème\n",
    "uh=np.linalg.solve(A,B) #uh - approximation\n"
   ]
  },
  {
   "cell_type": "code",
   "execution_count": 303,
   "metadata": {
    "collapsed": false
   },
   "outputs": [
    {
     "data": {
      "image/png": "[encoded data removed]",
      "text/plain": [
       "<matplotlib.figure.Figure at 0x8380940>"
      ]
     },
     "metadata": {},
     "output_type": "display_data"
    }
   ],
   "source": [
    "#Etude de l'érreur relative\n",
    "\n",
    "#Solution analytique\n",
    "def u1(E,L,rho,omega,N,S0,SL,r): #S constant\n",
    "    y=((rho*omega**2*r)*(L**2-(r**2)/3))/(E*2)\n",
    "    return y\n",
    "\n",
    "# def u2(E,L,rho,omega,N,S0,SL,x): #S variable\n",
    "#     a=(SL-S0)/L\n",
    "#     b=S0\n",
    "#     c1=(a*L+b)*((rho*(omega**2)*(b**2))/(36*E*a**2)-(rho*(omega**2)*(b*L))/(36*E*a)-(rho*(omega**2)*(L**2))/(18*E*a))\n",
    "#     y=((rho*(omega**2)*(b**2)*x)/(6*E*a**2)-(rho*(omega**2)*(b*x**2))/(12*E*a)-(rho*(omega**2)*(x**3)/(9*E))-(c1*np.log(a*x+b))/(6*a)) \n",
    "#     return y\n",
    "\n",
    "def u2(E,L,rho,omega,N,S0,SL,r): #S variable\n",
    "    a=(SL-S0)/L\n",
    "    b=S0\n",
    "    y=((omega**2*rho)/(36*E*a**3))*(a*r*(-4*a**2*r**2-3*a*b*r+6*b**2)-6*(b-2*a*L)*((a*L+b)**2)*np.log(a*r+b)+6*np.log(b)*(b-2*a*L)*(a*L+b)**2)\n",
    "    return y\n",
    "u=u2(E,L,rho,omega,N,S0,SL,x)\n",
    "\n",
    "#figure 1des petie valeur de N (ex N=5) + u analytique\n",
    "x=np.linspace(0,L,100)\n",
    "r=np.linspace(0,L,N+1)\n",
    "p1=plt.plot(r,uh,marker='o')\n",
    "p2=plt.plot(x,u,'r')\n",
    "plt.title(\"u\")  # Problemes avec accents (plot_directive) !\n",
    "plt.show()\n",
    "\n",
    "\n",
    "\n"
   ]
  },
  {
   "cell_type": "code",
   "execution_count": 304,
   "metadata": {
    "collapsed": false
   },
   "outputs": [
    {
     "name": "stdout",
     "output_type": "stream",
     "text": [
      "11 11\n",
      "[  4.77428841e-17   1.26431545e-02   2.56837219e-02   3.87851008e-02\n",
      "   5.15959316e-02   6.37453835e-02   7.48363941e-02   8.44356946e-02\n",
      "   9.20585909e-02   9.71447988e-02   9.90181729e-02] [ -1.61931662e-16   1.33437647e-02   2.63499775e-02   3.94324839e-02\n",
      "   5.22338193e-02   6.43771669e-02   7.54601918e-02   8.50462044e-02\n",
      "   9.26511393e-02   9.77237167e-02   9.96140074e-02]\n"
     ]
    },
    {
     "data": {
      "image/png": "[encoded data removed]",
      "text/plain": [
       "<matplotlib.figure.Figure at 0x833aa90>"
      ]
     },
     "metadata": {},
     "output_type": "display_data"
    }
   ],
   "source": [
    "#figure numero 2 - err en fonction de r (mm)\n",
    "\n",
    "# def errorU(E,L,rho,omega,N,S0,SL):\n",
    "#     i=0\n",
    "#     rk=0\n",
    "#     error=np.zeros(N+1)\n",
    "#     while rk<=L:\n",
    "#         rk=i*L/N\n",
    "#         u=u2(E,L,rho,omega,N,S0,SL,rk)\n",
    "#         error[i]=np.absolute(u-uh[i])/(u)\n",
    "#         i=i+1\n",
    "#     return error\n",
    "\n",
    "u=u2(E,L,rho,omega,N,S0,SL,r)\n",
    "print len(u), len(uh)\n",
    "print u, uh\n",
    "error=np.absolute(u-uh)/u\n",
    "\n",
    "#http://ufrmeca.univ-lyon1.fr/moodle/mod/url/view.php?id=173\n",
    "\n",
    "p3=plt.plot(r,error,marker='o')\n",
    "plt.title(\"err\")  # Problemes avec accents (plot_directive) !\n",
    "plt.show()\n",
    "\n",
    "#figure 3 : norme de err en fonction de h (1/N) et montrer que err diminue quand h diminue (norme err = sqrt;integrale....)\n",
    "\n",
    "#+légende et commentaire"
   ]
  },
  {
   "cell_type": "code",
   "execution_count": null,
   "metadata": {
    "collapsed": true
   },
   "outputs": [],
   "source": []
  }
 ],
 "metadata": {
  "anaconda-cloud": {},
  "kernelspec": {
   "display_name": "Python [Root]",
   "language": "python",
   "name": "Python [Root]"
  },
  "language_info": {
   "codemirror_mode": {
    "name": "ipython",
    "version": 2
   },
   "file_extension": ".py",
   "mimetype": "text/x-python",
   "name": "python",
   "nbconvert_exporter": "python",
   "pygments_lexer": "ipython2",
   "version": "2.7.12"
  }
 },
 "nbformat": 4,
 "nbformat_minor": 1
}
