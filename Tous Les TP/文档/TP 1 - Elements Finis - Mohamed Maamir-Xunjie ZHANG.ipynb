{
 "cells": [
  {
   "cell_type": "markdown",
   "metadata": {},
   "source": [
    "# TP 1 - Méthode des élémenst finis en 1D"
   ]
  },
  {
   "cell_type": "code",
   "execution_count": 1,
   "metadata": {
    "collapsed": false
   },
   "outputs": [
    {
     "data": {
      "application/javascript": [
       "IPython.notebook.set_autosave_interval(60000)"
      ]
     },
     "metadata": {},
     "output_type": "display_data"
    },
    {
     "name": "stdout",
     "output_type": "stream",
     "text": [
      "Autosaving every 60 seconds\n"
     ]
    }
   ],
   "source": [
    "%matplotlib inline\n",
    "%autosave 60\n",
    "import numpy as np\n",
    "import scipy as sp\n",
    "import scipy.optimize as opt\n",
    "import matplotlib.pyplot as plt"
   ]
  },
  {
   "cell_type": "markdown",
   "metadata": {},
   "source": [
    "\n",
    "## Introduction\n",
    "\n",
    "Dans ce *notebook*, nous allons étudier par la méthode des éléments fini en *1D* les **éfforts de traction** sur une poutre en rotation.\n",
    "Pour se faire, nous allons partir de **l'équation d'équilibre** et des conditions aux limites et donner **la formulation faible** du problème.\n",
    "On étudira une approximation de la solution dans le cas ou la solution est un **polynome d'odre 1** et dans le cas où il est **d'odre 2**.\n",
    "\n",
    "## Problème Physique\n",
    "\n",
    "### Equation d'équilibre\n",
    "\n",
    "Un petit élément $\\Delta r$ est soumis à :\n",
    "1. Force centrifuge : $(\\rho*S(r)*\\omega^2*r)*\\Delta r$\n",
    "2. Efforts internes : $ES(r+\\Delta r)\\frac{du}{dr}|_{r+\\Delta r}-ES(r)\\frac{du}{dr}|_{r}=\\frac{d}{dr}*[ES(r)\\frac{du}{dr}]$\n",
    "\n",
    "Soit l'équation d'équilibre suivante :\n",
    "$$\\frac{d}{dr}(ES(r)\\frac{du}{dr})+(\\rho S(r)\\omega^2)r =0$$\n",
    "\n",
    "### Formulation faible\n",
    "\n",
    "On retrouve cette formulation faible :\n",
    "\n",
    "**Trouver $u(r)$ tel que $u(0)=0$ et $ES(r)\\frac{du}{dr}|_{r=L}=0$ :\n",
    "$$\\int_0^L \\!ES(r)\\frac{du}{dr}~dr=\\int_0^L \\! (\\rho S(r)\\omega^2r)v(r)~dr$$**\n",
    "\n",
    "### solution Analytique\n",
    "\n",
    "#### Cas Section Constante\n",
    "\n",
    "On retrouve pour une section constrante une solution :\n",
    "$$u(r)_{Sconst}=\\frac{\\rho \\omega^2}{2*E}\\Big(L^2-\\frac{r^3}{3}\\Big)$$\n",
    "\n",
    "#### Cas Section fonction de r \n",
    "Pour une section S fonction de r : $s=s(r)$\n",
    "On trouve une solution analytique :\n",
    "\n",
    "$$u(r)_{S(r)}=$$\n",
    "\n",
    "## Approximation par éléments finis\n",
    "\n",
    "### Forme de l'approximation dans un maillage\n",
    "\n",
    "Pour un maillage $M^h$ nous avons une aproximation sur un élément $k$ de la forme :\n",
    "$$u^h_{k}=\\Big(\\frac{U(r_{k})-U(r_{k-1})}{r_{k}-r_{k-1}}\\Big)r+(\\frac{r_{k}U(r_{k-1})-r_{k-1}U(r_{k})}{r_{k}-r_{k-1}}\\Big)$$\n",
    "\n",
    "### Matrice A*T=B\n",
    "question 2 et 3"
   ]
  },
  {
   "cell_type": "markdown",
   "metadata": {},
   "source": [
    "## Programme"
   ]
  },
  {
   "cell_type": "code",
   "execution_count": 52,
   "metadata": {
    "collapsed": false
   },
   "outputs": [],
   "source": [
    "#Foction S(r)\n",
    "def section(L,N,k,S0,SL):\n",
    "    a=(SL-S0)/L\n",
    "    b=S0\n",
    "    return ((a*(L/N)*(k-1)+b)+a*(L/N)*k+b)/2\n",
    "\n",
    "#Algorithme de construction de la Matrice A et du Vecteur B\n",
    "def matrixA(E,L,N,S0,SL):\n",
    "    A=np.zeros((N+1,N+1))\n",
    "    h=L/N\n",
    "    S1=section(L,N,1,S0,SL)\n",
    "    SN=section(L,N,N,S0,SL)\n",
    "    A[0,0]= (E*S1/h)\n",
    "    A[0,1]= -(E*S1/h)\n",
    "    A[1,0]= -(E*S1/h)\n",
    "    A[1,1]= (E*S1/h)\n",
    "    i=1\n",
    "    while i<N:\n",
    "        S=section(L,N,i,S0,SL)\n",
    "        A[i,i]=A[i,i]+(E*S/h)\n",
    "        A[i,i+1]=-(E*S/h)\n",
    "        A[i+1,i]=-(E*S/h)\n",
    "        A[i+1,i+1]=(E*S/h)\n",
    "        i=i+1\n",
    "    return A\n",
    "\n",
    "def vecteurB(rho,omega,N,S0,SL):\n",
    "    B=np.zeros(N+1)\n",
    "    h=L/N\n",
    "    S1=section(L,N,1,S0,SL)\n",
    "    SN=section(L,N,N,S0,SL)\n",
    "    R=1*L/N #k-0=0 donc r1\n",
    "    B[0]=rho*omega*omega*S1*h*(R/3)\n",
    "    B[1]=rho*omega*omega*S1*h*(R/6)\n",
    "    i=2\n",
    "    while i<N:\n",
    "        R2=i*L/N\n",
    "        R1=(i-1)*L/N\n",
    "        S=section(L,N,i,S0,SL)\n",
    "        B[i]=B[i]+rho*omega*omega*S*(R1/3+R2/6)\n",
    "        B[i+1]=rho*omega*omega*S*(R1/3+R2/6)\n",
    "        i=i+1\n",
    "    return B"
   ]
  },
  {
   "cell_type": "code",
   "execution_count": 55,
   "metadata": {
    "collapsed": false
   },
   "outputs": [
    {
     "name": "stdout",
     "output_type": "stream",
     "text": [
      "[ 862865.33333333  431432.66666667  146672.          366817.33333333\n",
      "  482452.          262306.66666667]\n",
      "[ -7.01638502e+17  -7.01638502e+17  -7.01638502e+17  -7.01638502e+17\n",
      "  -7.01638502e+17  -7.01638502e+17]\n"
     ]
    }
   ],
   "source": [
    "#Paramettre du problème:\n",
    "\n",
    "S0=16.2\n",
    "SL=6.7\n",
    "L=51.5\n",
    "err=0.076\n",
    "rho=1600\n",
    "E=21300\n",
    "omega=1\n",
    "N=5\n",
    "\n",
    "A=matrixA(E,L,N,S0,SL)\n",
    "B=vecteurB(rho,omega,N,S0,SL)\n",
    "\n",
    "\n",
    "\n",
    "\n",
    "X=np.linalg.solve(A,B)\n",
    "print B\n",
    "print X\n"
   ]
  },
  {
   "cell_type": "code",
   "execution_count": null,
   "metadata": {
    "collapsed": true
   },
   "outputs": [],
   "source": [
    "#Condition limite:\n",
    "A[0,0]=1\n",
    "B[0]=0\n",
    "A[N,N]=\n",
    "B[N]=\n",
    "\n",
    "#Etude de l'érreur relative\n",
    "\n",
    "#approximation\n",
    "uh=\n",
    "#Solution analytique\n",
    "def u(E,L,N,S0,SL,r):\n",
    "    y=\n",
    "    return y\n",
    "\n",
    "err=np.sqrt\n",
    "\n",
    "#figure 1des petie valeur de N (ex N=5) + u analytique\n",
    "#figure numero 2 - err en fonction de r (mm)\n",
    "#figure 3 : norme de err en fonction de h (1/N) et montrer que err diminue quand h diminue (norme err = sqrt;integrale....)\n",
    "\n",
    "#+légende et commentaire"
   ]
  }
 ],
 "metadata": {
  "anaconda-cloud": {},
  "kernelspec": {
   "display_name": "Python 2",
   "language": "python",
   "name": "python2"
  },
  "language_info": {
   "codemirror_mode": {
    "name": "ipython",
    "version": 2
   },
   "file_extension": ".py",
   "mimetype": "text/x-python",
   "name": "python",
   "nbconvert_exporter": "python",
   "pygments_lexer": "ipython2",
   "version": "2.7.5"
  }
 },
 "nbformat": 4,
 "nbformat_minor": 1
}
