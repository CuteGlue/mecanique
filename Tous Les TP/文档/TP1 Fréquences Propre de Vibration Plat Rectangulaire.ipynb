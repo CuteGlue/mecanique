{
 "cells": [
  {
   "cell_type": "code",
   "execution_count": 2,
   "metadata": {
    "collapsed": true
   },
   "outputs": [],
   "source": [
    "import numpy as np"
   ]
  },
  {
   "cell_type": "code",
   "execution_count": 61,
   "metadata": {
    "collapsed": true
   },
   "outputs": [],
   "source": [
    "        #     On utilise un approximation de Ritz donne par William Stokey dans le 7eme chapitre de- \n",
    "        #     la reference \"Shock and Vibration Handbook\"\n",
    "        #     c.f. https://perso.univ-rennes1.fr/lalaonirina.rakotomanana-ravelonarivo/Stokey_chapter7.pdf\n",
    "\n",
    "def freevibfreq(given):\n",
    "    # Modes de vibrations d'une plaque carree de dimensions proches a notre plaque experimentale\n",
    "    # Parametres:\n",
    "    #   E = Module de Young\n",
    "    #   rho = masse volumique\n",
    "    #   nu = coefficient de Poisson\n",
    "    #   h = epaisseur, a = longuer moyenne {(l+w)/2} de notre plaque\n",
    "    \n",
    "    h = 0.008\n",
    "    a = 0.27\n",
    "    E = float(75*10**9)\n",
    "    rho = 2786\n",
    "    nu = 0.3\n",
    "    \n",
    "        # On calcule les frequences des 5 premiers modes de vibrations de la plaque\n",
    "\n",
    "\n",
    "    d = E*(h**3)/(12.*(1-(0.3)**2)) #stiffness\n",
    "    denom = np.sqrt(d/(rho*h*a**4))\n",
    "    w = given*denom\n",
    "    f = w/(2*np.pi)\n",
    "    print f\n",
    "    "
   ]
  },
  {
   "cell_type": "code",
   "execution_count": 54,
   "metadata": {
    "collapsed": false,
    "scrolled": true
   },
   "outputs": [
    {
     "name": "stdout",
     "output_type": "stream",
     "text": [
      "369.905766349\n",
      "542.669227539\n",
      "669.993156159\n",
      "960.455153132\n",
      "1687.21344654\n"
     ]
    },
    {
     "data": {
      "text/plain": [
       "(None, None, None, None, None)"
      ]
     },
     "execution_count": 54,
     "metadata": {},
     "output_type": "execute_result"
    }
   ],
   "source": [
    "# Ici on fait calcul des premiers modes de vibration de la plaque carree.\n",
    "\n",
    "freevibfreq(13.489),freevibfreq(19.789),freevibfreq(24.432),freevibfreq(35.024),freevibfreq(61.526)"
   ]
  },
  {
   "cell_type": "code",
   "execution_count": 72,
   "metadata": {
    "collapsed": true
   },
   "outputs": [],
   "source": [
    "# On calcul les frequences naturelles pour le modele DDL du systeme plaque-support caoutchouc\n",
    "\n",
    "def vib2ddl(a,k,rho,l,w,h):\n",
    "    \n",
    "    # deplacements characteristiques, z1 & z2, pour les deux modes principaux\n",
    "    \n",
    "    z1 = a/2 - np.sqrt(1+(a/2)**2)\n",
    "    z2 = a/2 + np.sqrt(1+(a/2)**2)\n",
    "    \n",
    "    print z1, z2\n",
    "    \n",
    "    m = rho*l*w*h\n",
    "    \n",
    "    # frequences naturels des modes pricipaux\n",
    "    \n",
    "    w1 = np.sqrt(k/(2*m)*((2+a)+np.sqrt(4+a**2)))\n",
    "    w2 = np.sqrt(k/(2*m)*((2+a)-np.sqrt(4+a**2)))  \n",
    "    \n",
    "    print w1, w2"
   ]
  },
  {
   "cell_type": "code",
   "execution_count": 73,
   "metadata": {
    "collapsed": false
   },
   "outputs": [
    {
     "name": "stdout",
     "output_type": "stream",
     "text": [
      "-0.998501124999 1.001501125\n",
      "304792.304889 8340.82072982\n"
     ]
    }
   ],
   "source": [
    "vib2ddl(0.003,75*10**9,2786,0.29,0.25,0.008)"
   ]
  },
  {
   "cell_type": "code",
   "execution_count": null,
   "metadata": {
    "collapsed": true
   },
   "outputs": [],
   "source": []
  }
 ],
 "metadata": {
  "anaconda-cloud": {},
  "kernelspec": {
   "display_name": "Python [Root]",
   "language": "python",
   "name": "Python [Root]"
  },
  "language_info": {
   "codemirror_mode": {
    "name": "ipython",
    "version": 2
   },
   "file_extension": ".py",
   "mimetype": "text/x-python",
   "name": "python",
   "nbconvert_exporter": "python",
   "pygments_lexer": "ipython2",
   "version": "2.7.12"
  }
 },
 "nbformat": 4,
 "nbformat_minor": 0
}
