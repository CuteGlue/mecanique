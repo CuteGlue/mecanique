{
 "cells": [
  {
   "cell_type": "code",
   "execution_count": 11,
   "metadata": {
    "collapsed": false
   },
   "outputs": [
    {
     "data": {
      "application/javascript": [
       "IPython.notebook.set_autosave_interval(60000)"
      ]
     },
     "metadata": {},
     "output_type": "display_data"
    },
    {
     "name": "stdout",
     "output_type": "stream",
     "text": [
      "Autosaving every 60 seconds\n"
     ]
    }
   ],
   "source": [
    "%matplotlib inline\n",
    "%autosave 60\n",
    "import numpy as np\n",
    "import scipy as sp\n",
    "import scipy.optimize as opt\n",
    "import matplotlib.pyplot as plt"
   ]
  },
  {
   "cell_type": "code",
   "execution_count": 12,
   "metadata": {
    "collapsed": false
   },
   "outputs": [],
   "source": [
    "L=1.4\n",
    "rho=1600              # kg.m^3\n",
    "w=360                   # en rad/s\n",
    "E=21300\n",
    "S0=5.4\n",
    "S1=4.2\n",
    "N=6\n",
    "h = L/(N-1)\n",
    "def S(i):\n",
    "    L=1.4\n",
    "    rho=1600              # kg.m^3\n",
    "    w=360                   # en rad/s\n",
    "    E=21300\n",
    "    S0=5.4\n",
    "    S1=4.2\n",
    "    N=6\n",
    "    h = L/(N-1)\n",
    "    return (S1-S0)*h*i/L+S0\n",
    "def Smoy(i):\n",
    "    L=1.4\n",
    "    rho=1600              # kg.m^3\n",
    "    w=360                   # en rad/s\n",
    "    E=21300\n",
    "    S0=5.4\n",
    "    S1=4.2\n",
    "    N=6\n",
    "    h = L/(N-1)\n",
    "    Smoyenne=(S(i-1)+S(i))/2\n",
    "    return Smoyenne\n",
    "def D(i):\n",
    "    L=1.4\n",
    "    rho=1600              # kg.m^3\n",
    "    w=360                   # en rad/s\n",
    "    E=21300\n",
    "    S0=5.4\n",
    "    S1=4.2\n",
    "    N=6\n",
    "    h = L/(N-1)\n",
    "    D= rho*Smoy(i)*w*w*h\n",
    "    return D\n",
    "def C(i):\n",
    "    L=1.4\n",
    "    rho=1600              # kg.m^3\n",
    "    w=360                   # en rad/s\n",
    "    E=21300\n",
    "    S0=5.4\n",
    "    S1=4.2\n",
    "    N=6\n",
    "    h = L/(N-1)\n",
    "    C= Smoy(i)*E/h\n",
    "    return C\n",
    "def R(i):\n",
    "    L=1.4\n",
    "    rho=1600              # kg.m^3\n",
    "    w=360                   # en rad/s\n",
    "    E=21300\n",
    "    S0=5.4\n",
    "    S1=4.2\n",
    "    N=6\n",
    "    h = L/(N-1)\n",
    "    R=h*i\n",
    "    return R"
   ]
  },
  {
   "cell_type": "code",
   "execution_count": 13,
   "metadata": {
    "collapsed": true
   },
   "outputs": [],
   "source": [
    "def Assem_a():\n",
    "    A = np.zeros((N+1,N+1)) # N=6 ,matrice 6*6\n",
    "    for K in np.arange(N):\n",
    "        if K ==0:\n",
    "            A[K,K]=C(K+1)\n",
    "            A[K,K+1]=-C(K+1)\n",
    "            A[K+1,K]=-C(K+1)\n",
    "            A[K+1,K+1]=C(K+1)\n",
    "        else:   \n",
    "            A[K,K]=A[K,K]+C(K+1)\n",
    "            A[K,K+1]=-C(K+1)\n",
    "            A[K+1,K]=-C(K+1)\n",
    "            A[K+1,K+1]=C(K+1)\n",
    "    return A\n",
    "\n",
    "def Assem_b(N):\n",
    "    B = np.zeros(N+1)  # N=6 ,matrice 6*1\n",
    "    for K in np.arange(N):            \n",
    "        if K ==0:\n",
    "            B[K]=D(K+1)*R(K)/3\n",
    "            B[K+1]=D(K+1)*R(K+1)/6\n",
    "        else:\n",
    "            B[K]=B[K]+D(K+1)*R(K)/3\n",
    "            B[K+1]=D(K+1)*R(K+1)/6\n",
    "# B[K]=D(K)*R(K-1)/6+D(K)*R(K)/3+D(K)*R(K-1)/3+D(K)*R(K-1)/6\n",
    "    return B"
   ]
  },
  {
   "cell_type": "code",
   "execution_count": 14,
   "metadata": {
    "collapsed": false
   },
   "outputs": [
    {
     "name": "stdout",
     "output_type": "stream",
     "text": [
      "[[ 401657.14285714 -401657.14285714       0.               0.               0.\n",
      "        0.               0.        ]\n",
      " [-401657.14285714  785057.14285714 -383400.               0.               0.\n",
      "        0.               0.        ]\n",
      " [      0.         -383400.          748542.85714286 -365142.85714286\n",
      "        0.               0.               0.        ]\n",
      " [      0.               0.         -365142.85714286  712028.57142857\n",
      "  -346885.71428571       0.               0.        ]\n",
      " [      0.               0.               0.         -346885.71428571\n",
      "   675514.28571429 -328628.57142857       0.        ]\n",
      " [      0.               0.               0.               0.\n",
      "  -328628.57142857  639000.         -310371.42857143]\n",
      " [      0.               0.               0.               0.               0.\n",
      "  -310371.42857143  310371.42857143]]\n"
     ]
    }
   ],
   "source": [
    "print Assem_a()"
   ]
  },
  {
   "cell_type": "code",
   "execution_count": 15,
   "metadata": {
    "collapsed": false
   },
   "outputs": [
    {
     "name": "stdout",
     "output_type": "stream",
     "text": [
      "[  0.00000000e+00   4.16179814e+07   7.93342771e+07   1.13148887e+08\n",
      "   1.43061811e+08   1.69073050e+08   6.63286579e+07]\n"
     ]
    }
   ],
   "source": [
    "print Assem_b(N)"
   ]
  },
  {
   "cell_type": "code",
   "execution_count": null,
   "metadata": {
    "collapsed": true
   },
   "outputs": [],
   "source": []
  },
  {
   "cell_type": "code",
   "execution_count": null,
   "metadata": {
    "collapsed": true
   },
   "outputs": [],
   "source": []
  },
  {
   "cell_type": "code",
   "execution_count": null,
   "metadata": {
    "collapsed": true
   },
   "outputs": [],
   "source": []
  },
  {
   "cell_type": "code",
   "execution_count": null,
   "metadata": {
    "collapsed": true
   },
   "outputs": [],
   "source": []
  }
 ],
 "metadata": {
  "anaconda-cloud": {},
  "kernelspec": {
   "display_name": "Python [conda root]",
   "language": "python",
   "name": "conda-root-py"
  },
  "language_info": {
   "codemirror_mode": {
    "name": "ipython",
    "version": 2
   },
   "file_extension": ".py",
   "mimetype": "text/x-python",
   "name": "python",
   "nbconvert_exporter": "python",
   "pygments_lexer": "ipython2",
   "version": "2.7.12"
  }
 },
 "nbformat": 4,
 "nbformat_minor": 1
}
