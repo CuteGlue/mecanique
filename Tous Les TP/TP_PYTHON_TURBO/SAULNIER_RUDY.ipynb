{
 "cells": [
  {
   "cell_type": "markdown",
   "metadata": {},
   "source": [
    "Rudy SAULNIER\n",
    "11204322\n",
    "\n",
    "\n",
    "#   DM Turbomachine"
   ]
  },
  {
   "cell_type": "code",
   "execution_count": 1,
   "metadata": {
    "collapsed": false
   },
   "outputs": [
    {
     "data": {
      "application/javascript": [
       "IPython.notebook.set_autosave_interval(300000)"
      ]
     },
     "metadata": {},
     "output_type": "display_data"
    },
    {
     "name": "stdout",
     "output_type": "stream",
     "text": [
      "Autosaving every 300 seconds\n"
     ]
    }
   ],
   "source": [
    "# Bibliothèque\n",
    "\n",
    "%matplotlib inline\n",
    "%autosave 300\n",
    "import numpy as np\n",
    "import scipy as sp\n",
    "import math as mp\n",
    "\n",
    "\n",
    "import matplotlib.pyplot as plt"
   ]
  },
  {
   "cell_type": "markdown",
   "metadata": {},
   "source": [
    "## Première partie: tracé de la polaire pour M=2"
   ]
  },
  {
   "cell_type": "markdown",
   "metadata": {},
   "source": [
    "\n",
    "\n",
    "Définition des variable global"
   ]
  },
  {
   "cell_type": "code",
   "execution_count": 2,
   "metadata": {
    "collapsed": false
   },
   "outputs": [],
   "source": [
    "\n",
    "_M1=None\n",
    "_gamma=None\n",
    "_n=None\n",
    "_phi=None\n",
    "_theta=None\n",
    "_rg=None\n",
    "_gm1=None\n",
    "_gp1=None\n"
   ]
  },
  {
   "cell_type": "markdown",
   "metadata": {},
   "source": [
    "Utilisation de la fonction dérivé fournie afin d'utiliser la méthode de Newton"
   ]
  },
  {
   "cell_type": "code",
   "execution_count": 3,
   "metadata": {
    "collapsed": false
   },
   "outputs": [],
   "source": [
    "#derivee a l'ordre 1\n",
    "\n",
    "def derivee(f):\n",
    "    def calcul(x, dx):\n",
    "        return (f(x+dx) - f(x))/dx\n",
    "    return calcul\n"
   ]
  },
  {
   "cell_type": "markdown",
   "metadata": {},
   "source": [
    "Méthode de Newton qui est utiliser pour retrouver le zéro d'une fonction. "
   ]
  },
  {
   "cell_type": "code",
   "execution_count": 4,
   "metadata": {
    "collapsed": true
   },
   "outputs": [],
   "source": [
    "#methode de Newton\n",
    "\n",
    "def newton(f, x, dx=0.000001, tolerance=0.000001):\n",
    "    '''f is the function f(x)'''\n",
    "    df = derivee(f)\n",
    "    niter=0\n",
    "    while True:\n",
    "        x1 = x - f(x)/df(x, dx)\n",
    "        t = abs(x1 - x)\n",
    "        if t < tolerance:\n",
    "            break\n",
    "        if niter>100:\n",
    "            break \n",
    "        x = x1\n",
    "        niter = niter+1\n",
    "    return x"
   ]
  },
  {
   "cell_type": "markdown",
   "metadata": {},
   "source": [
    "Fonction fournie qui renvoie la valeur de x en fonction de _phi"
   ]
  },
  {
   "cell_type": "code",
   "execution_count": 5,
   "metadata": {
    "collapsed": true
   },
   "outputs": [],
   "source": [
    "#Fonction que nous souhaitons annuler\n",
    "\n",
    "def f(x):\n",
    "    global _phi,_rg,_M1,_gm1\n",
    "    a=(mp.tan(x-_phi)/mp.tan(x))-(_rg)*(1.+2./((_gm1*_M1**2)*(mp.sin(x))**2))\n",
    "    return a"
   ]
  },
  {
   "cell_type": "code",
   "execution_count": 6,
   "metadata": {
    "collapsed": false
   },
   "outputs": [],
   "source": [
    "#valeur des variable\n",
    "\n",
    "\n",
    "_M1=2.\n",
    "_gamma=1.4\n",
    "_gm1=_gamma-1.\n",
    "_gp1=_gamma+1.\n",
    "_phi=1.\n",
    "_rg=_gm1/_gp1\n",
    "\n",
    "#Calcul de la polaire\n",
    "\n",
    "\n"
   ]
  },
  {
   "cell_type": "markdown",
   "metadata": {},
   "source": [
    "Définition d'une fonction permettant de calculer une polaire en fonction du nombre de Mach"
   ]
  },
  {
   "cell_type": "code",
   "execution_count": 7,
   "metadata": {
    "collapsed": false
   },
   "outputs": [],
   "source": [
    "\n",
    "def polaire(M1,gamma=1.4):\n",
    "    global _M1,_gamma,_gm1,_gp1,_phi,_rg\n",
    "    _M1=M1\n",
    "    _gmma=gamma\n",
    "    \n",
    "    dx=0.1                         #définitionn du premier dx\n",
    "    x_approx=mp.asin(1./_M1)       #première valeur de x pour la polaire du bas\n",
    "    x_approx1=np.pi/2.             #première valeur de x pour la polaire du haut\n",
    "    _phi=dx                        #premier pas de _phi (appeler theta dans le cours)\n",
    "\n",
    "\n",
    "\n",
    "    xb=[x_approx]\n",
    "    xh=[x_approx1]\n",
    "    theta=[0.0]\n",
    "\n",
    "    i=0\n",
    "    while xh[i]>xb[i]:              #tent que la polaire du au et la polaire du bas ne ce croise pas\n",
    "        xh.append(newton(f, xh[i]))     #On rajoute la valeur de la fonction newton pour la polaire du haut\n",
    "        xb.append(newton(f , xb[i]))    # De même pour la polaire du bas\n",
    "        theta.append(_phi)              # On enregistre la valeur de theta afin de pouvoir tracer la polaire par la suite\n",
    "\n",
    "\n",
    "        while abs(xh[i+1]-xh[i])>0.01 or abs(xb[i]-xb[i+1])>0.01: # Si la fonction Newton renvoi une valeur éronée\n",
    "\n",
    "            if dx<0.0000001:\n",
    "                break\n",
    "\n",
    "            else:\n",
    "                \n",
    "                _phi=_phi-dx\n",
    "\n",
    "                dx=dx/10.  #On réduit le dx jusqu'a ce que la fonction Newton renvoi une valeur satisfesante\n",
    "\n",
    "                _phi=_phi+dx\n",
    "\n",
    "                xh[i+1]=newton(f,xh[i])\n",
    "\n",
    "                xb[i+1]=newton(f,xb[i])\n",
    "\n",
    "                theta[i+1]=_phi\n",
    "\n",
    "        _phi=_phi+dx\n",
    "        i=i+1\n",
    "\n",
    "\n",
    "    #Passage au degré et calcul du rapport P/Po:\n",
    "\n",
    "\n",
    "\n",
    "    theta_neg=list(theta)\n",
    "    P_P1_h=list(theta)\n",
    "    P_P1_b=list(theta)\n",
    "    \n",
    "    for i in range (np.size(theta)):\n",
    "\n",
    "        P_P1_h[i]=1+2*_gamma/(_gamma+1)*(_M1**2*np.sin(xh[i])**2-1)\n",
    "        P_P1_b[i]=1+2*_gamma/(_gamma+1)*(_M1**2*np.sin(xb[i])**2-1)\n",
    "\n",
    "\n",
    "        theta[i]=theta[i]*360.0/(2*np.pi)\n",
    "        xb[i]=xb[i]*360.0/(2*np.pi)\n",
    "        xh[i]=xh[i]*360.0/(2*np.pi)\n",
    "\n",
    "        theta_neg[i]=-theta[i]\n",
    "    \n",
    "    \n",
    "    \n",
    "    return theta,theta_neg,xb,xh,P_P1_b,P_P1_h"
   ]
  },
  {
   "cell_type": "markdown",
   "metadata": {},
   "source": [
    "# Calcul de tous les tableau nécessaire pour réaliser le tracé des polaire"
   ]
  },
  {
   "cell_type": "code",
   "execution_count": 8,
   "metadata": {
    "collapsed": false
   },
   "outputs": [],
   "source": [
    "theta,theta_neg,xb,xh,P_P1_b,P_P1_h=polaire(2.0) #Appelle de la fonction \"polaire\" pour un nombre de Mach=2"
   ]
  },
  {
   "cell_type": "code",
   "execution_count": 9,
   "metadata": {
    "collapsed": false
   },
   "outputs": [
    {
     "data": {
      "text/plain": [
       "<matplotlib.text.Text at 0x3fe63d0>"
      ]
     },
     "execution_count": 9,
     "metadata": {},
     "output_type": "execute_result"
    },
    {
     "data": {
      "image/png": "[encoded data removed]",
      "text/plain": [
       "<matplotlib.figure.Figure at 0x3fef350>"
      ]
     },
     "metadata": {},
     "output_type": "display_data"
    }
   ],
   "source": [
    "#Tracer de la polaire\n",
    "plt.plot(theta,xb)\n",
    "plt.plot(theta,xh)\n",
    "plt.plot(theta_neg,xb)\n",
    "plt.plot(theta_neg,xh)\n",
    "plt.xlabel('theta')\n",
    "plt.ylabel('Beta')"
   ]
  },
  {
   "cell_type": "code",
   "execution_count": 10,
   "metadata": {
    "collapsed": false
   },
   "outputs": [
    {
     "data": {
      "text/plain": [
       "<matplotlib.text.Text at 0x412b090>"
      ]
     },
     "execution_count": 10,
     "metadata": {},
     "output_type": "execute_result"
    },
    {
     "data": {
      "image/png": "[encoded data removed]",
      "text/plain": [
       "<matplotlib.figure.Figure at 0x3fe8fd0>"
      ]
     },
     "metadata": {},
     "output_type": "display_data"
    }
   ],
   "source": [
    "#Tracer de la polaire en fonction de P/P0\n",
    "plt.plot(theta,P_P1_b)\n",
    "plt.plot(theta,P_P1_h)\n",
    "plt.plot(theta_neg,P_P1_b)\n",
    "plt.plot(theta_neg,P_P1_h)\n",
    "plt.xlabel('theta')\n",
    "plt.ylabel('P/P0')"
   ]
  },
  {
   "cell_type": "markdown",
   "metadata": {},
   "source": [
    "On peut constater que la polaire à la forme attendue."
   ]
  },
  {
   "cell_type": "markdown",
   "metadata": {},
   "source": [
    "# 2ème partie, réflexion de choc\n",
    "\n",
    "\n",
    "Dans cette partie nous allons tracer la polaire de réfléxion de choc "
   ]
  },
  {
   "cell_type": "code",
   "execution_count": 11,
   "metadata": {
    "collapsed": false
   },
   "outputs": [],
   "source": [
    "def reflexion(i):   #Fonction permettant de calculer la réflexion de choc\n",
    "    \n",
    "    _M1=2.\n",
    "\n",
    "    Mn1=_M1*(mp.sin(mp.radians(xb[i])))\n",
    "    Mn2=(1.+0.5*_gm1*Mn1**2)/(_gamma*Mn1**2-_gm1/2.)\n",
    "    Mn2=mp.sqrt(Mn2)\n",
    "    M2=Mn2/mp.sin(mp.radians(xb[i]-_phi))  #Calcul du Mach après le premier choc\n",
    "  \n",
    "\n",
    "    theta1,theta_neg1,xb1,xh1,P_P1_b1,P_P1_h1=polaire(M2)  #Calcul de tous les tableaux nécessaire au tracer de la polaire avec le nouveaux nombre de Mach\n",
    "\n",
    "\n",
    "\n",
    "    a=theta[i]\n",
    "\n",
    "\n",
    "    b=P_P1_b[i]-P_P1_b1[0]\n",
    "\n",
    "\n",
    "\n",
    "    for i in range (np.size(theta1)):\n",
    "        theta1[i]=theta1[i]-a\n",
    "        theta_neg1[i]=theta_neg1[i]-a\n",
    "\n",
    "        P_P1_b1[i]=P_P1_b1[i]+b\n",
    "        P_P1_h1[i]=P_P1_h1[i]+b\n",
    "        \n",
    "        \n",
    "        \n",
    "        \n",
    "    return theta1,theta_neg1,P_P1_b1,P_P1_h1,M2"
   ]
  },
  {
   "cell_type": "markdown",
   "metadata": {},
   "source": [
    "# Recherche du point critique\n",
    "\n",
    "Ici on cherche le moment ou la polaire de choc croise le zéro. Ce point est un point critique car passer ce point la polaire n'a pas de solution."
   ]
  },
  {
   "cell_type": "code",
   "execution_count": 12,
   "metadata": {
    "collapsed": false
   },
   "outputs": [
    {
     "name": "stdout",
     "output_type": "stream",
     "text": [
      "-0.0382162849352\n",
      "1.36212911271\n"
     ]
    }
   ],
   "source": [
    "#Afin de réduire le temps de calcul on place le premier point a calculer a 26.\n",
    "\n",
    "i=26\n",
    "theta1,theta_neg1,P_P1_b1,P_P1_h1,M2=reflexion(i)\n",
    "while theta1[-1]>0:\n",
    "    i=i+1\n",
    "    \n",
    "    theta1,theta_neg1,P_P1_b1,P_P1_h1,M2=reflexion(i)\n",
    "    if i>np.size(theta):\n",
    "        break\n",
    "\n",
    "print theta1[-1]\n",
    "print M2"
   ]
  },
  {
   "cell_type": "markdown",
   "metadata": {},
   "source": [
    "On peut voir que  la valeur max de theta=-0.037. Ce point tend vers 0 et est donc le point critique. On a une valeur de M2=1.36.\n",
    "\n",
    "On a ensuite tracé la solution:"
   ]
  },
  {
   "cell_type": "code",
   "execution_count": 13,
   "metadata": {
    "collapsed": false
   },
   "outputs": [
    {
     "data": {
      "text/plain": [
       "[<matplotlib.lines.Line2D at 0x454a6d0>]"
      ]
     },
     "execution_count": 13,
     "metadata": {},
     "output_type": "execute_result"
    },
    {
     "data": {
      "image/png": "[encoded data removed]",
      "text/plain": [
       "<matplotlib.figure.Figure at 0x41456d0>"
      ]
     },
     "metadata": {},
     "output_type": "display_data"
    }
   ],
   "source": [
    "plt.plot(theta1,P_P1_b1)\n",
    "plt.plot(theta1,P_P1_h1)\n",
    "plt.plot(theta_neg1,P_P1_b1)\n",
    "plt.plot(theta_neg1,P_P1_h1)\n",
    "plt.plot(theta,P_P1_b)\n",
    "plt.plot(theta,P_P1_h)\n",
    "plt.plot(theta_neg,P_P1_b)\n",
    "plt.plot(theta_neg,P_P1_h)\n",
    "plt.plot([0,0],[1.0,4.5],color='r')\n"
   ]
  },
  {
   "cell_type": "code",
   "execution_count": null,
   "metadata": {
    "collapsed": true
   },
   "outputs": [],
   "source": []
  }
 ],
 "metadata": {
  "anaconda-cloud": {},
  "kernelspec": {
   "display_name": "Python 2",
   "language": "python",
   "name": "python2"
  },
  "language_info": {
   "codemirror_mode": {
    "name": "ipython",
    "version": 2
   },
   "file_extension": ".py",
   "mimetype": "text/x-python",
   "name": "python",
   "nbconvert_exporter": "python",
   "pygments_lexer": "ipython2",
   "version": "2.7.5"
  }
 },
 "nbformat": 4,
 "nbformat_minor": 1
}
