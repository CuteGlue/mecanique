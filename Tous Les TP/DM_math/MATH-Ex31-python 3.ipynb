{
 "cells": [
  {
   "cell_type": "markdown",
   "metadata": {},
   "source": [
    "#  Vabiration Libres d'une Poutre en Flexion"
   ]
  },
  {
   "cell_type": "code",
   "execution_count": 1,
   "metadata": {
    "collapsed": false
   },
   "outputs": [
    {
     "data": {
      "application/javascript": [
       "IPython.notebook.set_autosave_interval(60000)"
      ]
     },
     "metadata": {},
     "output_type": "display_data"
    },
    {
     "name": "stdout",
     "output_type": "stream",
     "text": [
      "Autosaving every 60 seconds\n"
     ]
    }
   ],
   "source": [
    "%matplotlib inline\n",
    "%autosave 60\n",
    "import numpy as np\n",
    "import scipy as sp\n",
    "#import scipy.optimize as opt\n",
    "import matplotlib.pyplot as plt"
   ]
  },
  {
   "cell_type": "markdown",
   "metadata": {},
   "source": [
    "## Introduction\n",
    "\n",
    "On ne traitera que ici que le probléme d'une poutre droite , de section uniforme , en flexion simple dqns un plan principal .\n",
    "Ce pendant , le plus souvent , la poutre n'est pas contrainte à rester dans ce plan , et il existe une possibilité de déplacement dans la direction perpendiculaire . Si les excitations ne sont pas contenues dans un plan principal , il faut étudier les virations de flexion , dans les 2 plans principaux définis chacun par l'axe de la poutre et l'une des directions principales de la section ."
   ]
  },
  {
   "cell_type": "markdown",
   "metadata": {},
   "source": [
    "## Séparation des variables\n",
    "\n",
    "Pour une poutre droite de section constante en flexion , et considérons un effort extérieur $t_{ext}$ nul , on a l'équation :\n",
    "\n",
    "$$\\frac{\\partial^2v}{\\partial{v}^2}=-\\frac{El}{\\rho S}\\frac{\\partial^4{v}}{\\partial{x}^4}$$\n",
    "\n",
    "Posons : $v(x,t)$=$\\phi(x)q(t)$ et reportons cette expression dans l'équation du mouvement :\n",
    "\n",
    "$$\\phi\\frac{d^2{q}}{d{t}^2}=-\\frac{El}{\\rho S}\\frac{d^4{\\phi}}{d{x}^4}q$$\n",
    "\n",
    "Séparons les termes qui dépendent de $t$ et de $x$ :\n",
    "\n",
    "$$\\frac{1}{q}\\frac{d^2{q}}{d{t}^2}=-\\frac{El}{\\rho S}\\frac{d^4{\\phi}}{d{x}^4}\\frac{1}{\\phi}$$\n",
    "\n",
    "Les 2 membres de cette équation sont indépendants l'un de x , l'autre de t ; ils sont donc constants . Pour que la solution$q(t)$ reste bornée quand le temps tend vers l'infini , cette valeur constante doit être négative . Notons-la $-\\omega^2:$\n",
    "\n",
    "$$\\frac{1}{q}\\frac{d^2{q}}{d{t}^2}=-\\frac{El}{\\rho S}\\frac{d^4{\\phi}}{d{x}^4}\\frac{1}{\\phi}=-\\omega^2$$\n",
    "\n",
    "On en tire 2 équations différentielles ordinaires , l'une en $x$ , l'autre en $t$ , que l'on résout séparément :\n",
    "\n",
    "$$\\left \\{\n",
    "\\begin{array}{r c l }\n",
    "\\frac{d^4\\phi}{dx^4}-\\omega^4\\frac{\\rho S}{EI}\\phi&=&0\\\\\n",
    "\\frac{d^2q}{dt^2}+\\omega^2 q&=&0\n",
    "\\end{array}\n",
    "\\right .$$\n"
   ]
  },
  {
   "cell_type": "markdown",
   "metadata": {
    "collapsed": true
   },
   "source": [
    "## Solution d'équation :\n",
    "On recherche la solution de l'équation sous la forme harmitienne : $\\phi (x)=ae^{sx}$ , d'où léquation caractéristique , de degré 4 en $S$ :\n",
    "\n",
    "$$ s^4-\\omega^4\\frac{\\rho S}{EI}=0$$\n",
    "\n",
    "qui a solutions : \n",
    "$$s=\\pm \\sqrt[4]{\\frac{\\rho S}{EI}{\\omega^2}}\\ ,\\ s=\\pm i\\sqrt[4]{\\frac{\\rho S}{EI}{\\omega^2}}$$\n",
    "\n",
    "que l'on peut aussi écrire en fonction d'unparamètre $\\gamma$ sans dimension : \n",
    "$$s=\\pm\\frac{\\gamma}{L}\\ ,\\ s=\\pm i\\frac{\\gamma}{L}\\\\ \n",
    "\\gamma=L\\sqrt[4]{\\frac{\\rho S}{EI}{\\omega^2}}$$\n",
    "\n",
    "On en déduit l'expression de la forme modale :\n",
    "$$\\phi (x)=ae^{\\gamma\\frac{x}{L}}+be^{-\\gamma\\frac{x}{L}}+ce^{i\\gamma\\frac{x}{L}}+de^{-i\\gamma\\frac{x}{L}} $$\n",
    "\n",
    "ou encore :\n",
    "$$\\phi (x)=A\\sinh{(\\gamma\\frac{x}{L})}+B\\cosh{(\\gamma\\frac{x}{L})}+C\\sin{(\\gamma\\frac{x}{L})}+D\\cos{(\\gamma\\frac{x}{L})}$$\n",
    "\n",
    "On recherche l'autre solution de l'équation sous la forme harmitienne : $q(t)=ae^{bx}$ , d'où léquation caractéristique , de degré 2 en $t$ :\n",
    "\n",
    "$$ b^2+\\omega^2=0$$\n",
    "\n",
    "qui a 2 solutions :\n",
    "\n",
    "$$b=\\pm i\\omega\\ , \\ \\omega=\\frac{\\gamma^2}{L^2}\\sqrt{\\frac{EI}{\\rho S}}$$\n",
    "\n",
    "Donc on en déduit l'expression de la forme modale :\n",
    "\n",
    "$$q(t)=\\hat{e}e^{i\\omega t}+\\hat{f}e^{-i\\omega t}$$\n",
    "\n",
    "Ou encore :\n",
    "\n",
    "$$q(t)=E\\sin{\\omega t}+F\\cos{\\omega t}\\ , \\ \\omega=\\frac{\\gamma^2}{L^2}\\sqrt{\\frac{EI}{\\rho S}}$$\n",
    "\n",
    "**On obtient donc finalement :**\n",
    "$$v(x,t)=\\phi (x)q(x)\\\\\n",
    "avec\\ \n",
    "\\left \\{\n",
    "\\begin{array}{r c l}\\phi (x)&=&A\\sinh{(\\gamma\\frac{x}{L})}+B\\cosh{(\\gamma\\frac{x}{L})}+C\\sin{(\\gamma\\frac{x}{L})}+D\\cos{(\\gamma\\frac{x}{L})}\\\\\n",
    "q(t)&=&E\\sin{\\omega t}+F\\cos{\\omega t}\n",
    "\\end{array}\n",
    "\\right.\\   et\\ \\omega=\\frac{\\gamma^2}{L^2}\\sqrt{\\frac{EI}{\\rho S}}  $$\n",
    "\n",
    "*$\\phi (x)$  définit la form de la poutre pendant sa vibration . Elle contient les 5 constantes $A, B, C$ et $\\gamma (ou\\ \\omega)$ , qui sont fixées par les conditions aux limites .*           \n",
    "\n",
    "*$q(t)$ définit le mouvement de la poutre . Elle contient , outre la constante $\\omega$ déjà évoquée , les 2 constantes $E$ et $F$ , qui sont fixées par les conditions initiales .*"
   ]
  },
  {
   "cell_type": "markdown",
   "metadata": {},
   "source": [
    "## Résolution dans le cas de la poutre encastrée-appuie"
   ]
  },
  {
   "cell_type": "markdown",
   "metadata": {},
   "source": [
    "**Il existe 2 conditions aux limites usuelles pour une poutre en flexion :**\n",
    "### Premier condition : extrémité en appui simple à l'abscisse x=L \n",
    "La flèche esy nulle en tout instant , ainsi que le moment fléchissant :\n",
    "\n",
    "$$\\forall t\\   \\\n",
    "\\left \\{\n",
    "\\begin{array}{r c l}v(L,t)&=&0\\\\\\frac{\\partial ^2v}{\\partial x^2}(L,t)&=&0\n",
    "\\end{array}\n",
    "\\right.\n",
    "$$\n",
    "\n",
    "On a :\n",
    "\n",
    "$$\\left \\{\n",
    "\\begin{array}{r c l}\n",
    "\\phi (L)&=&A\\sinh{\\gamma}+B\\cosh{\\gamma}+C\\sin{\\gamma}+D\\cos{\\gamma}=0\\\\\n",
    "\\frac{d^2\\phi}{dx^2}(L)&=&\\frac{\\gamma^2}{L^2}A\\sinh{\\gamma}+B\\frac{\\gamma^2}{L^2}\\cosh{\\gamma}-C\\frac{\\gamma^2}{L^2}\\sin{\\gamma}-D\\frac{\\gamma^2}{L^2}\\cos{\\gamma}=0\n",
    "\\end{array}\n",
    "\\right.\n",
    "$$\n",
    "\n",
    "Et on en déduit :\n",
    "\n",
    "$$\\left \\{\n",
    "\\begin{array}{r c l}\n",
    "A\\sinh{\\gamma}+B\\cosh{\\gamma}&=&0\\\\\n",
    "C\\sin{\\gamma}+D\\cos{\\gamma}&=&0\n",
    "\\end{array}\n",
    "\\right.\n",
    "$$\n"
   ]
  },
  {
   "cell_type": "markdown",
   "metadata": {},
   "source": [
    "### Deuxième condition : encastrement à l'abscisse x=0\n",
    "La flèche esy nulle en tout instant , ainsi que la pent de la poutre : \n",
    "\n",
    "$$\\forall t\\   \\\n",
    "\\left \\{\n",
    "\\begin{array}{r c l}v(0,t)&=&0\\\\\\frac{\\partial v}{\\partial x}(0,t)&=&0\n",
    "\\end{array}\n",
    "\\right.\n",
    "$$\n",
    "\n",
    "d'où , on a :\n",
    "\n",
    "$$\\left \\{\n",
    "\\begin{array}{r c l}\n",
    "\\phi (0)&=&B+D=0\\\\\\frac{d\\phi}{dx}(0)&=&A\\frac{\\gamma}{L}+C\\frac{\\gamma}{L}=0\n",
    "\\end{array}\n",
    "\\right.\n",
    "$$\n",
    "\n",
    "On en déduit :\n",
    "\n",
    "$$\\left \\{\n",
    "\\begin{array}{r c l}\n",
    "A+C&=&0\\\\\n",
    "B+D&=&0\n",
    "\\end{array}\n",
    "\\right.\n",
    "$$\n",
    "\n"
   ]
  },
  {
   "cell_type": "markdown",
   "metadata": {},
   "source": [
    "### On cherche solution pour les 4 équations :\n",
    "\n",
    "$$\\left \\{\n",
    "\\begin{array}{r c l}\n",
    "&A\\sinh{\\gamma}+B\\cosh{\\gamma}&=&0\\\\\n",
    "&C\\sin{\\gamma}+D\\cos{\\gamma}&=&0\\\\\n",
    "&A+C&=&0\\\\\n",
    "&B+D&=&0\n",
    "\\end{array}\n",
    "\\right.\n",
    "$$\n",
    "et on trouve:\n",
    "$$\\left \\{\n",
    "\\begin{array}{r c l}\n",
    "&\\tanh{\\gamma}-\\tan{\\gamma}=0\\\\\n",
    "&B=-A\\tanh{\\gamma}=-A\\tan{\\gamma}\n",
    "\\end{array}\n",
    "\\right.$$"
   ]
  },
  {
   "cell_type": "markdown",
   "metadata": {},
   "source": [
    "### On écrit une programme pour trouver les n valeurs , ce que on noté $\\gamma_n$"
   ]
  },
  {
   "cell_type": "markdown",
   "metadata": {
    "collapsed": true
   },
   "source": [
    "### On trouve la solution complète  $v(x,t)=\\phi (x)q(t)$\n",
    "$$\\begin{align}v(x,t)=\\ &\\Big(A\\sinh{(\\gamma\\frac{x}{L})}+B\\cosh{(\\gamma\\frac{x}{L})}+C\\sin{(\\gamma\\frac{x}{L})}+D\\cos{(\\gamma\\frac{x}{L})}\\Big)\\Big(E\\sin{(\\omega t)}+F\\cos{(\\omega t)}\\Big)\\\\\n",
    "=\\ &\\Big(A\\sinh{(\\gamma\\frac{x}{L})}-A\\tanh{\\gamma}\\cosh{(\\gamma\\frac{x}{L})}-A\\sin{(\\gamma\\frac{x}{L})}+A\\tanh{\\gamma}\\cos{(\\gamma\\frac{x}{L})}\\Big)\\Big(E\\sin{(\\omega t)}+F\\cos{(\\omega t)}\\Big)\\\\\n",
    "=\\ &AE\\sin{(\\omega t)}\\Big(\\sinh{(\\gamma\\frac{x}{L})}-\\tanh{\\gamma}\\cosh{(\\gamma\\frac{x}{L})}-\\sin{(\\gamma\\frac{x}{L})}+\\tanh{\\gamma}\\cos{(\\gamma\\frac{x}{L})}\\Big)\\\\&+AF\\cos{(\\omega t)}\\Big(\\sinh{(\\gamma\\frac{x}{L})}-\\tanh{\\gamma}\\cosh{(\\gamma\\frac{x}{L})}-\\sin{(\\gamma\\frac{x}{L})}+\\tanh{\\gamma}\\cos{(\\gamma\\frac{x}{L})}\\Big)\\\\\\omega=\\ &\\frac{\\gamma^2}{L^2}\\sqrt{\\frac{EI}{\\rho S}}\\end{align}$$\n",
    "### On fait la dérivée partielle de $v(x,t)$ sur $t$ :\n",
    "\n",
    "$$\\begin{align}\\frac{\\partial v(x,t)}{\\partial t}=\\  &AEw\\cos{(\\omega t)}\\Big(\\sinh{(\\gamma\\frac{x}{L})}-\\tanh{\\gamma}\\cosh{(\\gamma\\frac{x}{L})}-\\sin{(\\gamma\\frac{x}{L})}+\\tanh{\\gamma}\\cos{(\\gamma\\frac{x}{L})}\\Big)\\\\&-AFw\\sin{(\\omega t)}\\Big(\\sinh{(\\gamma\\frac{x}{L})}-\\tanh{\\gamma}\\cosh{(\\gamma\\frac{x}{L})}-\\sin{(\\gamma\\frac{x}{L})}+\\tanh{\\gamma}\\cos{(\\gamma\\frac{x}{L})}\\Big)\\end{align}$$\n"
   ]
  },
  {
   "cell_type": "markdown",
   "metadata": {},
   "source": [
    "### Conditions initiales : *$v(x,0)=v_0$ *et *$\\frac{\\partial v(x,0)}{\\partial t}=0$* :\n",
    "Avec les conditions initiales , on a :\n",
    "$$\\left \\{\n",
    "\\begin{array}{r c l}&AF\\Big(\\sinh{(\\gamma\\frac{x}{L})}-\\tanh{\\gamma}\\cosh{(\\gamma\\frac{x}{L})}-\\sin{(\\gamma\\frac{x}{L})}+\\tanh{\\gamma}\\cos{(\\gamma\\frac{x}{L})}\\Big)&=&v_0\\\\&AEw\\Big(\\sinh{(\\gamma\\frac{x}{L})}-\\tanh{\\gamma}\\cosh{(\\gamma\\frac{x}{L})}-\\sin{(\\gamma\\frac{x}{L})}+\\tanh{\\gamma}\\cos{(\\gamma\\frac{x}{L})}\\Big)&=&0\\\\&\\omega=\\ \\frac{\\gamma^2}{L^2}\\sqrt{\\frac{EI}{\\rho S}}\n",
    "\\end{array}\n",
    "\\right.$$\n",
    "Pour une serie de $\\gamma_n$ , on en déduit :\n",
    "$$\\left \\{\n",
    "\\begin{array}{r c l}&\\sum\\limits_{n=1}^{\\infty}AF_n\\Big(\\sinh{(\\gamma_n\\frac{x}{L})}-\\tanh{\\gamma_n}\\cosh{(\\gamma_n\\frac{x}{L})}-\\sin{(\\gamma_n\\frac{x}{L})}+\\tanh{\\gamma_n}\\cos{(\\gamma_n\\frac{x}{L})}\\Big)&=&v_0\\\\&\\sum\\limits_{n=1}^{\\infty}AE_nw_n\\Big(\\sinh{(\\gamma_n\\frac{x}{L})}-\\tanh{\\gamma_n}\\cosh{(\\gamma_n\\frac{x}{L})}-\\sin{(\\gamma_n\\frac{x}{L})}+\\tanh{\\gamma_n}\\cos{(\\gamma_n\\frac{x}{L})}\\Big)&=&0\\\\&\\omega_n=\\ \\frac{\\gamma_n^2}{L^2}\\sqrt{\\frac{EI}{\\rho S}}\n",
    "\\end{array}\n",
    "\\right.$$"
   ]
  },
  {
   "cell_type": "markdown",
   "metadata": {},
   "source": [
    "### Trouver les valleurs $E_n$ et $F_n$ :\n",
    "Èvidement , $E_n=0$ for tous les $n$ , et on cherche la serie de $F_n$ dans la équation sommation suivante :\n",
    "$$\\sum\\limits_{n=1}^{\\infty}AF_n\\Big(\\sinh{(\\gamma_n\\frac{x}{L})}-\\tanh{\\gamma_n}\\cosh{(\\gamma_n\\frac{x}{L})}-\\sin{(\\gamma_n\\frac{x}{L})}+\\tanh{\\gamma_n}\\cos{(\\gamma_n\\frac{x}{L})}\\Big)=v_0$$"
   ]
  },
  {
   "cell_type": "markdown",
   "metadata": {},
   "source": [
    "On fait évolution de la fonction au-dessus , à gauche et à droite , on fait intergarale suivante en même temps : \n",
    "$$\\int_0^L \\Big(\\sinh{(\\gamma_k\\frac{x}{L})}-\\tanh{\\gamma_k}\\cosh{(\\gamma_k\\frac{x}{L})}-\\sin{(\\gamma_k\\frac{x}{L})}+\\tanh{\\gamma_k}\\cos{(\\gamma_k\\frac{x}{L})}\\Big)\\, \\mathrm dx\\,$$\n",
    "\n",
    "**$k$ est une constante**\n",
    "\n",
    "et on obtient : \n",
    "\n",
    "$\\int_0^L \\sum\\limits_{n=1}^{\\infty}AF_n\\Big(\\sinh{(\\gamma_k\\frac{x}{L})}-\\tanh{\\gamma_k}\\cosh{(\\gamma_k\\frac{x}{L})}-\\sin{(\\gamma_k\\frac{x}{L})}+\\tanh{\\gamma_k}\\cos{(\\gamma_k\\frac{x}{L})}\\Big)\\Big(\\sinh{(\\gamma_n\\frac{x}{L})}-\\tanh{\\gamma_n}\\cosh{(\\gamma_n\\frac{x}{L})}-\\sin{(\\gamma_n\\frac{x}{L})}+\\tanh{\\gamma_n}\\cos{(\\gamma_n\\frac{x}{L})}\\Big)\\mathrm dx$\n",
    "\n",
    "$$=\\int_0^L v_0\\Big(\\sinh{(\\gamma_k\\frac{x}{L})}-\\tanh{\\gamma_k}\\cosh{(\\gamma_k\\frac{x}{L})}-\\sin{(\\gamma_k\\frac{x}{L})}+\\tanh{\\gamma_k}\\cos{(\\gamma_k\\frac{x}{L})}\\Big)\\,\\mathrm dx$$"
   ]
  },
  {
   "cell_type": "markdown",
   "metadata": {
    "collapsed": true
   },
   "source": [
    "$$F_k\\, =\\frac{v_0 L\\,\\Big(\\cos(\\gamma_k)+\\cosh(\\gamma_k)+\\tanh(\\gamma_k)(\\sin(\\gamma_k)-\\sinh(\\gamma_k))-2\\Big)}{A\\,\\gamma_k}$$"
   ]
  },
  {
   "cell_type": "markdown",
   "metadata": {},
   "source": [
    "$$v(x,t)=AF\\Big(\\sinh{(\\gamma\\frac{x}{L})}-\\tanh{\\gamma}\\cosh{(\\gamma\\frac{x}{L})}-\\sin{(\\gamma\\frac{x}{L})}+\\tanh{\\gamma}\\cos{(\\gamma\\frac{x}{L})}\\Big)\\Big(\\cos(\\omega t)\\Big)$$"
   ]
  },
  {
   "cell_type": "markdown",
   "metadata": {},
   "source": [
    "$v(x,t)=\\sum\\limits_{k=1}^{\\infty}\\frac{v_0 L\\,\\Big(\\cos(\\gamma_k)+\\cosh(\\gamma_k)+\\tanh(\\gamma_k)(\\sin(\\gamma_k)-\\sinh(\\gamma_k))-2\\Big)}{\\,\\gamma_k}\\Big(\\sinh{(\\gamma_k\\frac{x}{L})}-\\tanh{\\gamma_k}\\cosh{(\\gamma_k\\frac{x}{L})}-\\sin{(\\gamma_k\\frac{x}{L})}+\\tanh{\\gamma_k}\\cos{(\\gamma_k\\frac{x}{L})}\\Big) \\Big(\\cos(\\omega_k t)\\Big)$"
   ]
  },
  {
   "cell_type": "markdown",
   "metadata": {},
   "source": [
    "$v(x,t)=\\sum\\limits_{k=1}^{\\infty}\\frac{v_0 L}{\\,\\gamma_k}\\,\\Big(\\cos(\\gamma_k)+\\cosh(\\gamma_k)+\\tanh(\\gamma_k)(\\sin(\\gamma_k)-\\sinh(\\gamma_k))-2\\Big)\\Big(\\sinh{(\\gamma_k\\frac{x}{L})}-\\tanh{\\gamma_k}\\cosh{(\\gamma_k\\frac{x}{L})}-\\sin{(\\gamma_k\\frac{x}{L})}+\\tanh{\\gamma_k}\\cos{(\\gamma_k\\frac{x}{L})}\\Big)(\\cos(\\omega_k t)$"
   ]
  },
  {
   "cell_type": "markdown",
   "metadata": {},
   "source": [
    "$$\\left \\{\\begin{array}{r c l}v(x,t)&=&\\sum\\limits_{k=1}^{\\infty}\\,V_k\\phi_k\\cos(\\omega_k t)\\\\V_k&=&\\frac{v_0 L}{\\,\\gamma_k}\\,\\Big(\\cos(\\gamma_k)+\\cosh(\\gamma_k)+\\tanh(\\gamma_k)(\\sin(\\gamma_k)-\\sinh(\\gamma_k))-2\\Big)\\\\\\phi_k&=&(\\sinh{(\\gamma_k\\frac{x}{L})}-\\tanh{\\gamma_k}\\cosh{(\\gamma_k\\frac{x}{L})}-\\sin{(\\gamma_k\\frac{x}{L})}+\\tanh{\\gamma_k}\\cos(\\gamma_k\\frac{x}{L})\\\\\\omega_k&=&\\ \\frac{\\gamma_k^2}{L^2}\\sqrt{\\frac{EI}{\\rho S}}\\end{array}\\right.$$"
   ]
  },
  {
   "cell_type": "markdown",
   "metadata": {},
   "source": []
  },
  {
   "cell_type": "markdown",
   "metadata": {},
   "source": [
    "$$"
   ]
  },
  {
   "cell_type": "code",
   "execution_count": null,
   "metadata": {
    "collapsed": true
   },
   "outputs": [],
   "source": []
  }
 ],
 "metadata": {
  "anaconda-cloud": {},
  "kernelspec": {
   "display_name": "Python [conda root]",
   "language": "python",
   "name": "conda-root-py"
  },
  "language_info": {
   "codemirror_mode": {
    "name": "ipython",
    "version": 2
   },
   "file_extension": ".py",
   "mimetype": "text/x-python",
   "name": "python",
   "nbconvert_exporter": "python",
   "pygments_lexer": "ipython2",
   "version": "2.7.12"
  }
 },
 "nbformat": 4,
 "nbformat_minor": 1
}
