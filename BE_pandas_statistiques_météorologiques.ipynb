{
 "cells": [
  {
   "cell_type": "markdown",
   "metadata": {},
   "source": [
    "# BE_pandas\n",
    "### 11310840\n",
    "### l'année 2013\n",
    "### DIJON-LONGVIC"
   ]
  },
  {
   "cell_type": "code",
   "execution_count": 6,
   "metadata": {},
   "outputs": [
    {
     "data": {
      "application/javascript": [
       "IPython.notebook.set_autosave_interval(30000)"
      ]
     },
     "metadata": {},
     "output_type": "display_data"
    },
    {
     "name": "stdout",
     "output_type": "stream",
     "text": [
      "Autosaving every 30 seconds\n"
     ]
    }
   ],
   "source": [
    "%autosave 30\n",
    "%matplotlib inline\n",
    "from __future__ import print_function\n",
    "import pandas as pd\n",
    "import numpy as np\n",
    "import matplotlib.pyplot as plt\n",
    "import time"
   ]
  },
  {
   "cell_type": "code",
   "execution_count": 7,
   "metadata": {},
   "outputs": [],
   "source": [
    "# option d'affichage\n",
    "pd.options.display.max_rows = 6\n",
    "pd.options.display.max_columns = 7"
   ]
  },
  {
   "cell_type": "code",
   "execution_count": 8,
   "metadata": {},
   "outputs": [],
   "source": [
    "def jour(date):\n",
    "    return str(date.month)+str(date.day)"
   ]
  },
  {
   "cell_type": "code",
   "execution_count": 9,
   "metadata": {},
   "outputs": [
    {
     "data": {
      "text/html": [
       "<div>\n",
       "<style scoped>\n",
       "    .dataframe tbody tr th:only-of-type {\n",
       "        vertical-align: middle;\n",
       "    }\n",
       "\n",
       "    .dataframe tbody tr th {\n",
       "        vertical-align: top;\n",
       "    }\n",
       "\n",
       "    .dataframe thead th {\n",
       "        text-align: right;\n",
       "    }\n",
       "</style>\n",
       "<table border=\"1\" class=\"dataframe\">\n",
       "  <thead>\n",
       "    <tr style=\"text-align: right;\">\n",
       "      <th></th>\n",
       "      <th>ID OMM station</th>\n",
       "      <th>Date</th>\n",
       "      <th>Pression au niveau mer</th>\n",
       "      <th>...</th>\n",
       "      <th>Type de tendance barométrique.1</th>\n",
       "      <th>Temps passé 1.1</th>\n",
       "      <th>Temps présent.1</th>\n",
       "    </tr>\n",
       "  </thead>\n",
       "  <tbody>\n",
       "    <tr>\n",
       "      <th>0</th>\n",
       "      <td>7280</td>\n",
       "      <td>2013-01-01T19:00:00+01:00</td>\n",
       "      <td>101540.0</td>\n",
       "      <td>...</td>\n",
       "      <td>3.0</td>\n",
       "      <td>0.0</td>\n",
       "      <td>0</td>\n",
       "    </tr>\n",
       "    <tr>\n",
       "      <th>1</th>\n",
       "      <td>7280</td>\n",
       "      <td>2013-01-05T13:00:00+01:00</td>\n",
       "      <td>103660.0</td>\n",
       "      <td>...</td>\n",
       "      <td>8.0</td>\n",
       "      <td>0.0</td>\n",
       "      <td>58</td>\n",
       "    </tr>\n",
       "    <tr>\n",
       "      <th>2</th>\n",
       "      <td>7280</td>\n",
       "      <td>2013-01-08T01:00:00+01:00</td>\n",
       "      <td>102940.0</td>\n",
       "      <td>...</td>\n",
       "      <td>3.0</td>\n",
       "      <td>0.0</td>\n",
       "      <td>0</td>\n",
       "    </tr>\n",
       "    <tr>\n",
       "      <th>3</th>\n",
       "      <td>7280</td>\n",
       "      <td>2013-01-06T22:00:00+01:00</td>\n",
       "      <td>103190.0</td>\n",
       "      <td>...</td>\n",
       "      <td>8.0</td>\n",
       "      <td>0.0</td>\n",
       "      <td>0</td>\n",
       "    </tr>\n",
       "    <tr>\n",
       "      <th>4</th>\n",
       "      <td>7280</td>\n",
       "      <td>2013-01-15T22:00:00+01:00</td>\n",
       "      <td>101010.0</td>\n",
       "      <td>...</td>\n",
       "      <td>3.0</td>\n",
       "      <td>0.0</td>\n",
       "      <td>0</td>\n",
       "    </tr>\n",
       "  </tbody>\n",
       "</table>\n",
       "<p>5 rows × 64 columns</p>\n",
       "</div>"
      ],
      "text/plain": [
       "   ID OMM station                       Date  Pression au niveau mer  \\\n",
       "0            7280  2013-01-01T19:00:00+01:00                101540.0   \n",
       "1            7280  2013-01-05T13:00:00+01:00                103660.0   \n",
       "2            7280  2013-01-08T01:00:00+01:00                102940.0   \n",
       "3            7280  2013-01-06T22:00:00+01:00                103190.0   \n",
       "4            7280  2013-01-15T22:00:00+01:00                101010.0   \n",
       "\n",
       "        ...         Type de tendance barométrique.1  Temps passé 1.1  \\\n",
       "0       ...                                     3.0              0.0   \n",
       "1       ...                                     8.0              0.0   \n",
       "2       ...                                     3.0              0.0   \n",
       "3       ...                                     8.0              0.0   \n",
       "4       ...                                     3.0              0.0   \n",
       "\n",
       "   Temps présent.1  \n",
       "0                0  \n",
       "1               58  \n",
       "2                0  \n",
       "3                0  \n",
       "4                0  \n",
       "\n",
       "[5 rows x 64 columns]"
      ]
     },
     "execution_count": 9,
     "metadata": {},
     "output_type": "execute_result"
    }
   ],
   "source": [
    "# lecture\n",
    "data = pd.read_csv('donnes_meteo.csv',sep=';')\n",
    "data = data.fillna(0.)\n",
    "#data.info()\n",
    "data.head()\n",
    "#data.tail()"
   ]
  },
  {
   "cell_type": "code",
   "execution_count": 10,
   "metadata": {},
   "outputs": [
    {
     "name": "stdout",
     "output_type": "stream",
     "text": [
      "304.5 15.9 DatetimeIndex(['2013-12-25 00:00:00', '2013-12-24 21:00:00',\n",
      "               '2013-12-24 15:00:00'],\n",
      "              dtype='datetime64[ns]', name=u'Date', freq=None)\n"
     ]
    },
    {
     "data": {
      "text/html": [
       "<div>\n",
       "<style scoped>\n",
       "    .dataframe tbody tr th:only-of-type {\n",
       "        vertical-align: middle;\n",
       "    }\n",
       "\n",
       "    .dataframe tbody tr th {\n",
       "        vertical-align: top;\n",
       "    }\n",
       "\n",
       "    .dataframe thead th {\n",
       "        text-align: right;\n",
       "    }\n",
       "</style>\n",
       "<table border=\"1\" class=\"dataframe\">\n",
       "  <thead>\n",
       "    <tr style=\"text-align: right;\">\n",
       "      <th></th>\n",
       "      <th>Température</th>\n",
       "      <th>Hauteur de la neige fraîche</th>\n",
       "      <th>Précipitations dans la dernière heure</th>\n",
       "      <th>Direction du vent moyen 10 mn</th>\n",
       "      <th>Vitesse du vent moyen 10 mn</th>\n",
       "    </tr>\n",
       "    <tr>\n",
       "      <th>Date</th>\n",
       "      <th></th>\n",
       "      <th></th>\n",
       "      <th></th>\n",
       "      <th></th>\n",
       "      <th></th>\n",
       "    </tr>\n",
       "  </thead>\n",
       "  <tbody>\n",
       "    <tr>\n",
       "      <th>2013-01-01 18:00:00</th>\n",
       "      <td>278.85</td>\n",
       "      <td>0.0</td>\n",
       "      <td>0.0</td>\n",
       "      <td>290</td>\n",
       "      <td>1.0</td>\n",
       "    </tr>\n",
       "    <tr>\n",
       "      <th>2013-01-05 12:00:00</th>\n",
       "      <td>279.95</td>\n",
       "      <td>0.0</td>\n",
       "      <td>0.0</td>\n",
       "      <td>0</td>\n",
       "      <td>0.0</td>\n",
       "    </tr>\n",
       "    <tr>\n",
       "      <th>2013-01-08 00:00:00</th>\n",
       "      <td>277.15</td>\n",
       "      <td>0.0</td>\n",
       "      <td>0.0</td>\n",
       "      <td>0</td>\n",
       "      <td>0.0</td>\n",
       "    </tr>\n",
       "    <tr>\n",
       "      <th>...</th>\n",
       "      <td>...</td>\n",
       "      <td>...</td>\n",
       "      <td>...</td>\n",
       "      <td>...</td>\n",
       "      <td>...</td>\n",
       "    </tr>\n",
       "    <tr>\n",
       "      <th>2013-01-30 09:00:00</th>\n",
       "      <td>281.95</td>\n",
       "      <td>0.0</td>\n",
       "      <td>0.0</td>\n",
       "      <td>180</td>\n",
       "      <td>4.1</td>\n",
       "    </tr>\n",
       "    <tr>\n",
       "      <th>2013-01-31 15:00:00</th>\n",
       "      <td>283.95</td>\n",
       "      <td>0.0</td>\n",
       "      <td>0.0</td>\n",
       "      <td>200</td>\n",
       "      <td>6.2</td>\n",
       "    </tr>\n",
       "    <tr>\n",
       "      <th>2013-01-31 18:00:00</th>\n",
       "      <td>282.65</td>\n",
       "      <td>0.0</td>\n",
       "      <td>0.0</td>\n",
       "      <td>190</td>\n",
       "      <td>5.7</td>\n",
       "    </tr>\n",
       "  </tbody>\n",
       "</table>\n",
       "<p>2912 rows × 5 columns</p>\n",
       "</div>"
      ],
      "text/plain": [
       "                     Température  Hauteur de la neige fraîche  \\\n",
       "Date                                                            \n",
       "2013-01-01 18:00:00       278.85                          0.0   \n",
       "2013-01-05 12:00:00       279.95                          0.0   \n",
       "2013-01-08 00:00:00       277.15                          0.0   \n",
       "...                          ...                          ...   \n",
       "2013-01-30 09:00:00       281.95                          0.0   \n",
       "2013-01-31 15:00:00       283.95                          0.0   \n",
       "2013-01-31 18:00:00       282.65                          0.0   \n",
       "\n",
       "                     Précipitations dans la dernière heure  \\\n",
       "Date                                                         \n",
       "2013-01-01 18:00:00                                    0.0   \n",
       "2013-01-05 12:00:00                                    0.0   \n",
       "2013-01-08 00:00:00                                    0.0   \n",
       "...                                                    ...   \n",
       "2013-01-30 09:00:00                                    0.0   \n",
       "2013-01-31 15:00:00                                    0.0   \n",
       "2013-01-31 18:00:00                                    0.0   \n",
       "\n",
       "                     Direction du vent moyen 10 mn  \\\n",
       "Date                                                 \n",
       "2013-01-01 18:00:00                            290   \n",
       "2013-01-05 12:00:00                              0   \n",
       "2013-01-08 00:00:00                              0   \n",
       "...                                            ...   \n",
       "2013-01-30 09:00:00                            180   \n",
       "2013-01-31 15:00:00                            200   \n",
       "2013-01-31 18:00:00                            190   \n",
       "\n",
       "                     Vitesse du vent moyen 10 mn  \n",
       "Date                                              \n",
       "2013-01-01 18:00:00                          1.0  \n",
       "2013-01-05 12:00:00                          0.0  \n",
       "2013-01-08 00:00:00                          0.0  \n",
       "...                                          ...  \n",
       "2013-01-30 09:00:00                          4.1  \n",
       "2013-01-31 15:00:00                          6.2  \n",
       "2013-01-31 18:00:00                          5.7  \n",
       "\n",
       "[2912 rows x 5 columns]"
      ]
     },
     "execution_count": 10,
     "metadata": {},
     "output_type": "execute_result"
    }
   ],
   "source": [
    "data2 = data[['Date','Température','Hauteur de la neige fraîche','Précipitations dans la dernière heure','Direction du vent moyen 10 mn','Vitesse du vent moyen 10 mn']].copy()\n",
    "#data2.info()\n",
    "data2['Date'] = pd.to_datetime(data2['Date'])\n",
    "data2.set_index('Date',inplace=True)\n",
    "hauteur_total_annee = data2[\"Précipitations dans la dernière heure\"].sum()\n",
    "vitesse_vent_maximal = data2[\"Vitesse du vent moyen 10 mn\"].max()\n",
    "position = data2.index[data2[\"Vitesse du vent moyen 10 mn\"]==vitesse_vent_maximal]\n",
    "print(hauteur_total_annee,vitesse_vent_maximal,position)\n",
    "data2"
   ]
  },
  {
   "cell_type": "code",
   "execution_count": 11,
   "metadata": {},
   "outputs": [
    {
     "name": "stdout",
     "output_type": "stream",
     "text": [
      "6.0 9.0 10.0 5.0\n",
      "0.0 0.0 0.0 0.04\n",
      "284.594339623 292.246261682 281.449012694 275.402598315\n"
     ]
    }
   ],
   "source": [
    "data2.loc[\"2013-03-20\":\"2013-06-20\",'saison'] = \"printemp\"\n",
    "data2.loc[\"2013-06-21\":\"2013-09-22\",'saison'] = \"ete\"\n",
    "data2.loc[\"2013-09-23\":\"2013-12-20\",'saison'] = \"automne\"\n",
    "data2.loc[\"2013-12-21\":\"2013-12-31\",'saison'] = \"hiver\"\n",
    "data2.loc[\"2013-01-01\":\"2013-03-19\",'saison'] = \"hiver\"\n",
    "data2\n",
    "a = data2.groupby(['saison'])\n",
    "pri = a.get_group('printemp').copy()\n",
    "ete = a.get_group('ete').copy()\n",
    "aut = a.get_group('automne').copy()\n",
    "hiv = a.get_group('hiver').copy()\n",
    "hp_max_pri,hn_max_pri,moy_tem_pri = pri['Précipitations dans la dernière heure'].max(),pri['Hauteur de la neige fraîche'].max(),pri['Température'].mean()\n",
    "hp_max_ete,hn_max_ete,moy_tem_ete = ete['Précipitations dans la dernière heure'].max(),ete['Hauteur de la neige fraîche'].max(),ete['Température'].mean()\n",
    "hp_max_aut,hn_max_aut,moy_tem_aut = aut['Précipitations dans la dernière heure'].max(),aut['Hauteur de la neige fraîche'].max(),aut['Température'].mean()\n",
    "hp_max_hiv,hn_max_hiv,moy_tem_hiv = hiv['Précipitations dans la dernière heure'].max(),hiv['Hauteur de la neige fraîche'].max(),hiv['Température'].mean()\n",
    "print(hp_max_pri,hp_max_ete,hp_max_aut,hp_max_hiv)\n",
    "print(hn_max_pri,hn_max_ete,hn_max_aut,hn_max_hiv)\n",
    "print(moy_tem_pri,moy_tem_ete,moy_tem_aut,moy_tem_hiv)"
   ]
  },
  {
   "cell_type": "code",
   "execution_count": 12,
   "metadata": {},
   "outputs": [],
   "source": [
    "col=pri.index\n",
    "pri[\"jour\"]=col\n",
    "pri.loc[:,\"jour\"]=pri[\"jour\"].apply(jour)\n",
    "\n",
    "col=ete.index\n",
    "ete[\"jour\"]=col\n",
    "ete.loc[:,\"jour\"]=ete[\"jour\"].apply(jour)\n",
    "\n",
    "col=aut.index\n",
    "aut[\"jour\"]=col\n",
    "aut.loc[:,\"jour\"]=aut[\"jour\"].apply(jour)\n",
    "\n",
    "col=hiv.index\n",
    "hiv[\"jour\"]=col\n",
    "hiv.loc[:,\"jour\"]=hiv[\"jour\"].apply(jour)\n"
   ]
  },
  {
   "cell_type": "code",
   "execution_count": 13,
   "metadata": {},
   "outputs": [
    {
     "data": {
      "text/plain": [
       "jour\n",
       "320    279.3125\n",
       "321    279.2375\n",
       "322    281.4500\n",
       "         ...   \n",
       "67     293.6375\n",
       "68     292.6000\n",
       "69     289.6250\n",
       "Name: Température, Length: 93, dtype: float64"
      ]
     },
     "execution_count": 13,
     "metadata": {},
     "output_type": "execute_result"
    }
   ],
   "source": [
    "A = pri.groupby(['jour'])\n",
    "T=A[\"Température\"].mean()\n",
    "T"
   ]
  },
  {
   "cell_type": "code",
   "execution_count": 14,
   "metadata": {},
   "outputs": [
    {
     "data": {
      "text/plain": [
       "['414',\n",
       " '415',\n",
       " '416',\n",
       " '417',\n",
       " '418',\n",
       " '425',\n",
       " '55',\n",
       " '56',\n",
       " '57',\n",
       " '58',\n",
       " '59',\n",
       " '610',\n",
       " '611',\n",
       " '612',\n",
       " '613',\n",
       " '615',\n",
       " '616',\n",
       " '617',\n",
       " '618',\n",
       " '619',\n",
       " '620',\n",
       " '64',\n",
       " '65',\n",
       " '66',\n",
       " '67',\n",
       " '68',\n",
       " '69']"
      ]
     },
     "execution_count": 14,
     "metadata": {},
     "output_type": "execute_result"
    }
   ],
   "source": [
    "J=[]\n",
    "for i in range(93):\n",
    "    if T[i] >14.01 + 273.15:\n",
    "        J.append(T.index[i])\n",
    "J    "
   ]
  },
  {
   "cell_type": "code",
   "execution_count": null,
   "metadata": {},
   "outputs": [],
   "source": []
  },
  {
   "cell_type": "code",
   "execution_count": null,
   "metadata": {},
   "outputs": [],
   "source": []
  },
  {
   "cell_type": "code",
   "execution_count": null,
   "metadata": {},
   "outputs": [],
   "source": []
  },
  {
   "cell_type": "code",
   "execution_count": null,
   "metadata": {},
   "outputs": [],
   "source": []
  },
  {
   "cell_type": "code",
   "execution_count": null,
   "metadata": {},
   "outputs": [],
   "source": []
  },
  {
   "cell_type": "code",
   "execution_count": null,
   "metadata": {},
   "outputs": [],
   "source": []
  },
  {
   "cell_type": "code",
   "execution_count": null,
   "metadata": {},
   "outputs": [],
   "source": []
  },
  {
   "cell_type": "code",
   "execution_count": null,
   "metadata": {},
   "outputs": [],
   "source": []
  },
  {
   "cell_type": "code",
   "execution_count": null,
   "metadata": {},
   "outputs": [],
   "source": []
  },
  {
   "cell_type": "code",
   "execution_count": null,
   "metadata": {},
   "outputs": [],
   "source": []
  },
  {
   "cell_type": "code",
   "execution_count": null,
   "metadata": {},
   "outputs": [],
   "source": []
  },
  {
   "cell_type": "code",
   "execution_count": null,
   "metadata": {},
   "outputs": [],
   "source": []
  },
  {
   "cell_type": "code",
   "execution_count": null,
   "metadata": {},
   "outputs": [],
   "source": []
  },
  {
   "cell_type": "code",
   "execution_count": null,
   "metadata": {},
   "outputs": [],
   "source": []
  },
  {
   "cell_type": "code",
   "execution_count": null,
   "metadata": {},
   "outputs": [],
   "source": []
  },
  {
   "cell_type": "code",
   "execution_count": null,
   "metadata": {},
   "outputs": [],
   "source": []
  },
  {
   "cell_type": "code",
   "execution_count": null,
   "metadata": {},
   "outputs": [],
   "source": []
  }
 ],
 "metadata": {
  "kernelspec": {
   "display_name": "Python 2",
   "language": "python",
   "name": "python2"
  },
  "language_info": {
   "codemirror_mode": {
    "name": "ipython",
    "version": 2
   },
   "file_extension": ".py",
   "mimetype": "text/x-python",
   "name": "python",
   "nbconvert_exporter": "python",
   "pygments_lexer": "ipython2",
   "version": "2.7.14"
  }
 },
 "nbformat": 4,
 "nbformat_minor": 2
}
