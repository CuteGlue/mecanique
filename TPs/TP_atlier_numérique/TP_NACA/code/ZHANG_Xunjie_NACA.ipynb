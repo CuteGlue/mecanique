{
 "cells": [
  {
   "cell_type": "markdown",
   "metadata": {},
   "source": [
    "# TP_NACA_ZHANG_Xunjie_11310840"
   ]
  },
  {
   "cell_type": "code",
   "execution_count": 1,
   "metadata": {},
   "outputs": [
    {
     "data": {
      "application/javascript": [
       "IPython.notebook.set_autosave_interval(30000)"
      ]
     },
     "metadata": {},
     "output_type": "display_data"
    },
    {
     "name": "stdout",
     "output_type": "stream",
     "text": [
      "Autosaving every 30 seconds\n"
     ]
    }
   ],
   "source": [
    "%matplotlib inline \n",
    "import numpy as np\n",
    "import scipy as sp\n",
    "import matplotlib.pyplot as plt\n",
    "%autosave 30"
   ]
  },
  {
   "cell_type": "code",
   "execution_count": 2,
   "metadata": {
    "collapsed": true
   },
   "outputs": [],
   "source": [
    "numetude=11310840\n",
    "xx=0.\n",
    "w=8.\n",
    "yz=40.\n",
    "t=yz/100.\n",
    "xa=xx/10.\n",
    "ya=w/100."
   ]
  },
  {
   "cell_type": "code",
   "execution_count": 3,
   "metadata": {
    "collapsed": true
   },
   "outputs": [],
   "source": [
    "def F(x,t):\n",
    "    y=5.0*t*(0.2969*np.sqrt(x)-0.1260*x-0.3537*x**2+0.2843*x**3-0.1015*x**4)\n",
    "    return y"
   ]
  },
  {
   "cell_type": "code",
   "execution_count": 4,
   "metadata": {},
   "outputs": [
    {
     "data": {
      "text/plain": [
       "[<matplotlib.lines.Line2D at 0x7f4b8b7329d0>]"
      ]
     },
     "execution_count": 4,
     "metadata": {},
     "output_type": "execute_result"
    },
    {
     "data": {
      "image/png": "[encoded data removed]",
      "text/plain": [
       "<matplotlib.figure.Figure at 0x7f4b8b732990>"
      ]
     },
     "metadata": {},
     "output_type": "display_data"
    }
   ],
   "source": [
    "x=np.linspace(0,1,num=100)**2\n",
    "ye=F(x,t)\n",
    "yi=-F(x,t)\n",
    "plt.plot(x,ye)\n",
    "plt.plot(x,yi)"
   ]
  },
  {
   "cell_type": "code",
   "execution_count": 5,
   "metadata": {
    "collapsed": true
   },
   "outputs": [],
   "source": [
    "def profil_sym(x,t):          # definir le profile symétrique \n",
    "    ye=F(x,t)\n",
    "    yi=-F(x,t)\n",
    "    f=open(\"nacasym.dxf\",'w')\n",
    "    f.write('999''\\n')\n",
    "    f.write('profilsym''\\n')\n",
    "    f.write(' 0''\\n')\n",
    "    f.write('SECTION''\\n')\n",
    "    f.write(' 0''\\n')\n",
    "    for i in range(len(x)-1):\n",
    "        f.write('LINE''\\n')\n",
    "        f.write(' 8''\\n')\n",
    "        f.write(' 0''\\n')\n",
    "        f.write(' 10''\\n')\n",
    "        f.write(\" %f\\n\"%x[i])\n",
    "        f.write(' 20''\\n')\n",
    "        f.write(\" %f\\n\"%ye[i])\n",
    "        f.write(' 30''\\n')\n",
    "        f.write(' 0.0000''\\n')\n",
    "        f.write(' 11''\\n')\n",
    "        f.write(\" %f\\n\"%x[i+1])\n",
    "        f.write(' 21''\\n')\n",
    "        f.write(\" %f\\n\"%ye[i+1])\n",
    "        f.write(' 31''\\n')\n",
    "        f.write(' 0.0000''\\n')\n",
    "    for i in range(len(x)-1):\n",
    "        f.write('LINE''\\n')\n",
    "        f.write(' 8''\\n')\n",
    "        f.write(' 0''\\n')\n",
    "        f.write(' 10''\\n')\n",
    "        f.write(\" %f\\n\"%x[len(x)-1-i])\n",
    "        f.write(' 20''\\n')\n",
    "        f.write(\" %f\\n\"%yi[len(x)-1-i])\n",
    "        f.write(' 30''\\n')\n",
    "        f.write(' 0.0000''\\n')\n",
    "        f.write(' 11''\\n')\n",
    "        f.write(\" %f\\n\"%x[len(x)-2-i])\n",
    "        f.write(' 21''\\n')\n",
    "        f.write(\" %f\\n\"%yi[len(x)-2-i])\n",
    "        f.write(' 31''\\n')\n",
    "        f.write(' 0.0000''\\n')\n",
    "        f.write(' 0''\\n')\n",
    "    f.write('ENDSEC''\\n')\n",
    "    f.write(' 0''\\n')\n",
    "    f.write('EOF''\\n')\n",
    "    f.close()\n",
    "    return"
   ]
  },
  {
   "cell_type": "code",
   "execution_count": 6,
   "metadata": {
    "collapsed": true
   },
   "outputs": [],
   "source": [
    "def ym(x,xa,ya):\n",
    "    ym=np.zeros(len(x))\n",
    "    for i in range(len(x)):\n",
    "        if x[i]>=xa and x[i]<=1.:\n",
    "            ym[i]=ya*(1.-x[i])*(1.+x[i]-2.*xa)/((1-xa)**2)\n",
    "        elif x[i]<xa and x[i]>=0.:\n",
    "            ym[i]=ya*(2.*xa-x[i])*x[i]/(xa**2)\n",
    "    return ym\n",
    "\n",
    "def theta(x,xa,ya):\n",
    "    theta=np.zeros(len(x))\n",
    "    for i in range(len(x)):\n",
    "        if x[i]>=xa and x[i]<=1.:\n",
    "            theta[i]=ya*(2.*xa-2.*x[i])/((1-xa)**2)\n",
    "        elif x[i]<xa and x[i]>=0.:\n",
    "            theta[i]=ya*(2.*xa-2.*x[i])/(xa**2)\n",
    "    return theta    "
   ]
  },
  {
   "cell_type": "code",
   "execution_count": 7,
   "metadata": {},
   "outputs": [
    {
     "data": {
      "text/plain": [
       "[<matplotlib.lines.Line2D at 0x7f4b89321f90>]"
      ]
     },
     "execution_count": 7,
     "metadata": {},
     "output_type": "execute_result"
    },
    {
     "data": {
      "image/png": "[encoded data removed]",
      "text/plain": [
       "<matplotlib.figure.Figure at 0x7f4bc3e6ee90>"
      ]
     },
     "metadata": {},
     "output_type": "display_data"
    }
   ],
   "source": [
    "xe1=x-F(x,t)*np.sin(theta(x,xa,ya))\n",
    "ye1=ym(x,xa,ya)+F(x,t)*np.cos(theta(x,xa,ya))\n",
    "xi1=x+F(x,t)*np.sin(theta(x,xa,ya))\n",
    "yi1=ym(x,xa,ya)-F(x,t)*np.cos(theta(x,xa,ya))\n",
    "plt.plot(x,ym(x,xa,ya))\n",
    "plt.plot(xe1,ye1)\n",
    "plt.plot(xi1,yi1)"
   ]
  },
  {
   "cell_type": "code",
   "execution_count": 8,
   "metadata": {
    "collapsed": true
   },
   "outputs": [],
   "source": [
    "def profil_cam(x,t,xa,ya):        # definir nanca cambre\n",
    "    xe1=x-F(x,t)*np.sin(theta(x,xa,ya))\n",
    "    ye1=ym(x,xa,ya)+F(x,t)*np.cos(theta(x,xa,ya))\n",
    "    xi1=x+F(x,t)*np.sin(theta(x,xa,ya))\n",
    "    yi1=ym(x,xa,ya)-F(x,t)*np.cos(theta(x,xa,ya))\n",
    "    f=open(\"nacacam.dxf\",'w')\n",
    "    f.write('999''\\n')\n",
    "    f.write('profilcam''\\n')\n",
    "    f.write(' 0''\\n')\n",
    "    f.write('SECTION''\\n')\n",
    "    f.write(' 2''\\n')\n",
    "    f.write('ENTITIES''\\n')\n",
    "    f.write(' 0''\\n')\n",
    "    for i in range(len(x)-1):\n",
    "        f.write('LINE''\\n')\n",
    "        f.write(' 8''\\n')\n",
    "        f.write(' 0''\\n')\n",
    "        f.write(' 10''\\n')\n",
    "        f.write(\" %f\\n\"%xe1[i])\n",
    "        f.write(' 20''\\n')\n",
    "        f.write(\" %f\\n\"%ye1[i])\n",
    "        f.write(' 30''\\n')\n",
    "        f.write(' 0.0000''\\n')\n",
    "        f.write(' 11''\\n')\n",
    "        f.write(\" %f\\n\"%xe1[i+1])\n",
    "        f.write(' 21''\\n')\n",
    "        f.write(\" %f\\n\"%ye1[i+1])\n",
    "        f.write(' 31''\\n')\n",
    "        f.write(' 0.0000''\\n')\n",
    "        f.write(' 0''\\n')\n",
    "    for i in range(len(x)-1):\n",
    "        f.write('LINE''\\n')\n",
    "        f.write(' 8''\\n')\n",
    "        f.write(' 0''\\n')\n",
    "        f.write(' 10''\\n')\n",
    "        f.write(\" %f\\n\"%xi1[len(x)-1-i])\n",
    "        f.write(' 20''\\n')\n",
    "        f.write(\" %f\\n\"%yi1[len(x)-1-i])\n",
    "        f.write(' 30''\\n')\n",
    "        f.write(' 0.0000''\\n')\n",
    "        f.write(' 11''\\n')\n",
    "        f.write(\" %f\\n\"%xi1[len(x)-2-i])\n",
    "        f.write(' 21''\\n')\n",
    "        f.write(\" %f\\n\"%yi1[len(x)-2-i])\n",
    "        f.write(' 31''\\n')\n",
    "        f.write(' 0.0000''\\n')\n",
    "        f.write(' 0''\\n')\n",
    "    f.write('ENDSEC''\\n')\n",
    "    f.write(' 0''\\n')\n",
    "    f.write('EOF''\\n')\n",
    "    f.close()\n",
    "    return\n",
    "profil_cam(x,t,xa,ya)"
   ]
  },
  {
   "cell_type": "code",
   "execution_count": 9,
   "metadata": {
    "collapsed": true
   },
   "outputs": [],
   "source": [
    "def compte():     # compte nombre de ligne et colone de la nouveau txts\n",
    "    F = open(\"pression.txt\",'r')\n",
    "    L=F.readline().split()\n",
    "    ncol=len(L)\n",
    "    nlig=1\n",
    "    while(F.readline() !=\"\"):\n",
    "        nlig=nlig+1\n",
    "    return nlig,ncol"
   ]
  },
  {
   "cell_type": "code",
   "execution_count": 10,
   "metadata": {
    "collapsed": true
   },
   "outputs": [],
   "source": [
    "def lecture():      # lecture les txts associés par comsol\n",
    "    Fpression = open(\"pression.txt\",'r');\n",
    "    FcoorX = open(\"coorX.txt\",'r')\n",
    "    FcoorY = open(\"coorY.txt\",'r')\n",
    "    nlig,ncol=compte()\n",
    "    tab1=np.zeros((nlig,ncol),dtype=float)\n",
    "    tab2=np.zeros((nlig,ncol),dtype=float)\n",
    "    tab3=np.zeros((nlig,ncol),dtype=float)\n",
    "    for i in range(nlig):\n",
    "        tab1[i,:]= Fpression.readline().split()\n",
    "        tab2[i,:] = FcoorX.readline().split()\n",
    "        tab3[i,:]= FcoorY.readline().split()\n",
    "    pression = tab1[:,1:]\n",
    "    pointX = tab2[:,1:]\n",
    "    pointY = tab3[:,1:]\n",
    "    teta=tab1[:,0]\n",
    "    return pression,pointX,pointY,teta"
   ]
  },
  {
   "cell_type": "code",
   "execution_count": 11,
   "metadata": {
    "collapsed": true
   },
   "outputs": [],
   "source": [
    "a=1                # a=1 ,c'est deuxieme  valeur de alpha  . a=0 , c'est le premier valeur de alpha , on peut changer a pour obtenir alpha\n",
    "pression,pointX,pointY,teta =lecture()\n",
    "xo,yo,po=pointX[a,:],pointY[a,:] ,pression[a,:] "
   ]
  },
  {
   "cell_type": "code",
   "execution_count": 12,
   "metadata": {
    "collapsed": true
   },
   "outputs": [],
   "source": [
    "def separe(xo,yo,po,xa,ya):         #  xo,yo,po ces sont original , xi yi pi ces sont valeurs intrados , xe ye pe ces sont valeurs extrados \n",
    "    xi=[]\n",
    "    yi=[]\n",
    "    xe=[]\n",
    "    ye=[]  \n",
    "    pi=[]\n",
    "    pe=[]\n",
    "    yc=ym(xo,xa,ya)\n",
    "    for i in range(len(xo)):\n",
    "        if yo[i]<yc[i]:\n",
    "            yi.append(yo[i])\n",
    "            xi.append(xo[i])\n",
    "            pi.append(po[i])\n",
    "        elif yo[i]>yc[i]:\n",
    "            ye.append(yo[i])\n",
    "            xe.append(xo[i])\n",
    "            pe.append(po[i])\n",
    "        elif yo[i] == yc[i] :\n",
    "            yi.append(yo[i])\n",
    "            xi.append(xo[i])\n",
    "            pi.append(po[i])\n",
    "            ye.append(yo[i])\n",
    "            xe.append(xo[i])\n",
    "            pe.append(po[i])\n",
    "    return xi,yi,xe,ye,pi,pe"
   ]
  },
  {
   "cell_type": "code",
   "execution_count": 13,
   "metadata": {},
   "outputs": [
    {
     "data": {
      "text/plain": [
       "[<matplotlib.lines.Line2D at 0x7f4b8933f950>]"
      ]
     },
     "execution_count": 13,
     "metadata": {},
     "output_type": "execute_result"
    },
    {
     "data": {
      "image/png": "[encoded data removed]",
      "text/plain": [
       "<matplotlib.figure.Figure at 0x7f4b8b4a47d0>"
      ]
     },
     "metadata": {},
     "output_type": "display_data"
    }
   ],
   "source": [
    "xi,yi,xe,ye,pi,pe=separe(xo,yo,po,xa,ya)\n",
    "plt.plot(xe,ye)\n",
    "plt.plot(xi,yi)"
   ]
  },
  {
   "cell_type": "code",
   "execution_count": 14,
   "metadata": {
    "collapsed": true
   },
   "outputs": [],
   "source": [
    "def arrange(xo,yo,po,xa,ya):    # xn yn pn ces sont valeurs nouveaus .\n",
    "    xi,yi,xe,ye,pi,pe=separe(xo,yo,po,xa,ya)\n",
    "    xn=[]\n",
    "    yn=[]\n",
    "    pn=[]\n",
    "    for i in range(len(xi)-1):\n",
    "        xn.append(xi[i])\n",
    "        yn.append(yi[i])\n",
    "        pn.append(pi[i])\n",
    "    for i in range(len(xe)-1):\n",
    "        xn.append(xe[len(xe)-1-i])\n",
    "        yn.append(ye[len(xe)-1-i])\n",
    "        pn.append(pe[len(xe)-1-i])\n",
    "    return xn,yn,pn"
   ]
  },
  {
   "cell_type": "code",
   "execution_count": 15,
   "metadata": {
    "scrolled": true
   },
   "outputs": [
    {
     "data": {
      "text/plain": [
       "[<matplotlib.lines.Line2D at 0x7f4b891a3490>]"
      ]
     },
     "execution_count": 15,
     "metadata": {},
     "output_type": "execute_result"
    },
    {
     "data": {
      "image/png": "[encoded data removed]",
      "text/plain": [
       "<matplotlib.figure.Figure at 0x7f4b8933fc90>"
      ]
     },
     "metadata": {},
     "output_type": "display_data"
    }
   ],
   "source": [
    "xn,yn,pn=arrange(xo,yo,po,xa,ya)\n",
    "plt.plot(xn,pn)"
   ]
  },
  {
   "cell_type": "code",
   "execution_count": 16,
   "metadata": {
    "collapsed": true
   },
   "outputs": [],
   "source": [
    "def portance(xo,yo,xa,ya,a):       #pour calculer le centre de portance et force portance et force de trainée\n",
    "    pression,pointX,pointY,teta =lecture()\n",
    "    xo,yo,po=pointX[a,:],pointY[a,:] ,pression[a,:] \n",
    "    xn,yn,pn=arrange(xo,yo,po,xa,ya)\n",
    "    Fpx=0.\n",
    "    Fpy=0.\n",
    "    dfy=0.\n",
    "    dfx=0.\n",
    "    sumx=0.\n",
    "    sumy=0.\n",
    "    for i in range(len(pn)):\n",
    "        if i==0:\n",
    "            Fpx=pn[i]*abs((yn[i-1]-yn[1])/2.)\n",
    "            Fpy=pn[i]*abs((xn[i-1]-xn[1])/2.)\n",
    "            sumx=sumx+Fpx\n",
    "            sumy=sumy+Fpy\n",
    "            dfx=dfx+yn[i]*Fpx\n",
    "            dfy=dfy+xn[i]*Fpy\n",
    "        elif i==len(pn)-1:\n",
    "            Fpx=pn[i]*abs((yn[i-1]-yn[0])/2.)\n",
    "            Fpy=pn[i]*abs((xn[i-1]-xn[0])/2.)\n",
    "            dfx=dfx+yn[i]*Fpx\n",
    "            dfy=dfy+xn[i]*Fpy\n",
    "            sumx=sumx+Fpx\n",
    "            sumy=sumy+Fpy\n",
    "        else:\n",
    "            Fpx=pn[i]*abs((yn[i-1]-yn[i+1])/2.)\n",
    "            Fpy=pn[i]*abs((xn[i-1]-xn[i+1])/2.)\n",
    "            dfx=dfx+yn[i]*Fpx\n",
    "            dfy=dfy+xn[i]*Fpy\n",
    "            sumx=sumx+Fpx\n",
    "            sumy=sumy+Fpy\n",
    "    yp=dfx/sumx\n",
    "    xp=dfy/sumy\n",
    "    ft=sumx*np.cos(teta[a])+sumy*np.sin(teta[a])\n",
    "    fp=-sumx*np.sin(teta[a])+sumy*np.cos(teta[a])\n",
    "    return xp,yp,ft,fp"
   ]
  },
  {
   "cell_type": "code",
   "execution_count": 17,
   "metadata": {},
   "outputs": [
    {
     "name": "stdout",
     "output_type": "stream",
     "text": [
      "centre=( 0.303817535077 0.0132442705149 )\n",
      "force porcé et foce trainé sont ( 0.0720855562061 -2.30397463522 )\n"
     ]
    },
    {
     "data": {
      "image/png": "[encoded data removed]",
      "text/plain": [
       "<matplotlib.figure.Figure at 0x7f4b89364650>"
      ]
     },
     "metadata": {},
     "output_type": "display_data"
    }
   ],
   "source": [
    "xp,yp,ft,fp=portance(xo,yo,xa,ya,a)\n",
    "xn,yn,pn=arrange(xo,yo,po,xa,ya)\n",
    "plt.plot(xn,yn)\n",
    "plt.plot(xp,yp,'*')\n",
    "print \"centre=(\",xp,yp,\")\"\n",
    "print \"force porcé et foce trainé sont (\",ft,fp,\")\""
   ]
  }
 ],
 "metadata": {
  "kernelspec": {
   "display_name": "Python 2",
   "language": "python",
   "name": "python2"
  },
  "language_info": {
   "codemirror_mode": {
    "name": "ipython",
    "version": 2
   },
   "file_extension": ".py",
   "mimetype": "text/x-python",
   "name": "python",
   "nbconvert_exporter": "python",
   "pygments_lexer": "ipython2",
   "version": "2.7.9"
  }
 },
 "nbformat": 4,
 "nbformat_minor": 2
}
