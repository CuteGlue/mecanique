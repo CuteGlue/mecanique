{
 "cells": [
  {
   "cell_type": "code",
   "execution_count": 44,
   "metadata": {},
   "outputs": [
    {
     "data": {
      "application/javascript": [
       "IPython.notebook.set_autosave_interval(30000)"
      ]
     },
     "metadata": {},
     "output_type": "display_data"
    },
    {
     "name": "stdout",
     "output_type": "stream",
     "text": [
      "Autosaving every 30 seconds\n"
     ]
    }
   ],
   "source": [
    "%matplotlib inline \n",
    "%autosave 30\n",
    "import numpy as np\n",
    "import scipy as sp\n",
    "import matplotlib.pyplot as plt"
   ]
  },
  {
   "cell_type": "markdown",
   "metadata": {},
   "source": [
    "# reillis rendre"
   ]
  },
  {
   "cell_type": "code",
   "execution_count": 45,
   "metadata": {
    "collapsed": true
   },
   "outputs": [],
   "source": [
    "numeroetudiant=11310840\n",
    "a=0\n",
    "b=8\n",
    "c=4\n",
    "d=0"
   ]
  },
  {
   "cell_type": "code",
   "execution_count": 46,
   "metadata": {
    "collapsed": true
   },
   "outputs": [],
   "source": [
    "def lecture_treillis(nom_fichier):\n",
    "    F=open(nom_fichier,\"r\")\n",
    "\n",
    "    F.readline()\n",
    "    L=F.readline().split()\n",
    "    Ne=int(L[0])                    #nombre de noeds\n",
    "    Nb=int(L[1])                    #nombre de barre\n",
    "    X=np.zeros((Ne,2))              #position\n",
    "    CL=np.zeros((Ne),dtype=int)     #condition limite\n",
    "    FA=np.zeros((2*Ne))             #force applique\n",
    "    G=np.zeros((Nb,2),dtype=int)    #barres entre les noeds\n",
    "    NA=np.zeros((Nb,3))             #nature des barres\n",
    "\n",
    "    F.readline()\n",
    "    for i in range(Ne):\n",
    "        L=F.readline().split()\n",
    "        X[i,0]=L[0]\n",
    "        X[i,1]=L[1]\n",
    "        CL[i]=L[2]\n",
    "        FA[2*i]=L[3]\n",
    "        FA[2*i+1]=L[4]\n",
    "    \n",
    "    F.readline()\n",
    "    for i in range(Nb):\n",
    "        L=F.readline().split()\n",
    "        G[i,0]=L[0]\n",
    "        G[i,1]=L[1]\n",
    "\n",
    "    F.readline()\n",
    "    for i in range(Nb):\n",
    "        L=F.readline().split()\n",
    "        NA[i,0]=L[0]\n",
    "        NA[i,1]=L[1]\n",
    "        NA[i,2]=L[2]\n",
    "    \n",
    "    return X,CL,FA,G,NA,Ne,Nb"
   ]
  },
  {
   "cell_type": "code",
   "execution_count": 47,
   "metadata": {
    "collapsed": true
   },
   "outputs": [],
   "source": [
    "X,CL,FA,G,NA,Ne,Nb=lecture_treillis(\"ZHANG_Xunjie_treillis_rendre.txt\")"
   ]
  },
  {
   "cell_type": "code",
   "execution_count": 48,
   "metadata": {
    "collapsed": true
   },
   "outputs": [],
   "source": [
    "def trace_treillis(X,G):\n",
    "    plt.ylim(-1.,3.0)\n",
    "    plt.xlim(-1.,5.0)\n",
    "    for i in range(len(G)):\n",
    "        x1=X[G[i,0]-1,0]\n",
    "        x2=X[G[i,1]-1,0]\n",
    "        y1=X[G[i,0]-1,1]\n",
    "        y2=X[G[i,1]-1,1]\n",
    "    \n",
    "        plt.plot([x1,x2],[y1,y2],marker='o',color='b',linewidth=2.0)        "
   ]
  },
  {
   "cell_type": "code",
   "execution_count": 49,
   "metadata": {},
   "outputs": [
    {
     "data": {
      "image/png": "[encoded data removed]",
      "text/plain": [
       "<matplotlib.figure.Figure at 0x7fb94f502590>"
      ]
     },
     "metadata": {},
     "output_type": "display_data"
    }
   ],
   "source": [
    "trace_treillis(X,G)"
   ]
  },
  {
   "cell_type": "code",
   "execution_count": 50,
   "metadata": {
    "collapsed": true
   },
   "outputs": [],
   "source": [
    "def assemblage(X,CL,FA,G,NA,Ne,Nb):\n",
    "    R=np.zeros((2,2))\n",
    "    T=np.zeros((4,4))\n",
    "    Ke=np.zeros((4,4))\n",
    "    Me=np.zeros((4,4))\n",
    "    Mt=np.zeros((2*Ne,2*Ne))  \n",
    "    K=np.zeros((2*Ne,2*Ne))                         #2*Ne,2*Ne\n",
    "    \n",
    "    for i in range(len(G)):\n",
    "        angle=[]                                    #sin cos\n",
    "        x1=X[G[i][0]-1][0]\n",
    "        x2=X[G[i][1]-1][0]\n",
    "        y1=X[G[i][0]-1][1]\n",
    "        y2=X[G[i][1]-1][1]\n",
    "        L=np.sqrt((x2-x1)**2+(y2-y1)**2)           #longeur de barre\n",
    "        angle.append((y2-y1)/L)\n",
    "        angle.append((x2-x1)/L)\n",
    "        R[0,0]=angle[1]\n",
    "        R[0,1]=angle[0]\n",
    "        R[1,0]=-angle[0]\n",
    "        R[1,1]=angle[1]\n",
    "        T[:2,:2]=R\n",
    "        T[2:,2:]=R\n",
    "        Ke[0,0]=NA[i,0]*NA[i,1]/L                   #Ke\n",
    "        Ke[2,2]=NA[i,0]*NA[i,1]/L\n",
    "        Ke[0,2]=-NA[i,0]*NA[i,1]/L\n",
    "        Ke[2,0]=-NA[i,0]*NA[i,1]/L                 \n",
    "        Me[0,0]=NA[i,2]*NA[i,1]*L/3                 #Me\n",
    "        Me[2,2]=NA[i,2]*NA[i,1]*L/3\n",
    "        Me[0,2]=-NA[i,2]*NA[i,1]*L/6\n",
    "        Me[2,0]=-NA[i,2]*NA[i,1]*L/6\n",
    "        M=np.dot(np.dot(T.transpose(),Ke),T)\n",
    "        Mm=np.dot(np.dot(T.transpose(),Me),T)\n",
    "        k=G[i][0]-1\n",
    "        j=G[i][1]-1\n",
    "        indice=[2*k,2*k+1,2*j,2*j+1]\n",
    "  \n",
    "        for n in range(4):\n",
    "            for m in range(4):\n",
    "                K[indice[n],indice[m]]=K[indice[n],indice[m]]+M[n,m]\n",
    "                Mt[indice[n],indice[m]]=Mt[indice[n],indice[m]]+Mm[n,m]\n",
    "             \n",
    "    for i in range(len(CL)) :\n",
    "        \n",
    "        if CL[i]==3:\n",
    "            K[2*i,:]=0.\n",
    "            K[2*i,2*i]=1.\n",
    "            K[2*i+1,:]=0.\n",
    "            K[2*i+1,2*i+1]=1.\n",
    "            Mt[2*i,:]=0.\n",
    "            Mt[2*i,2*i]=1.\n",
    "            Mt[2*i+1,:]=0.\n",
    "            Mt[2*i+1,2*i+1]=1.\n",
    "            \n",
    "        elif CL[i]==2:\n",
    "            K[2*i+1,:]=0.\n",
    "            K[2*i+1,2*i+1]=1.\n",
    "            Mt[2*i+1,:]=0.\n",
    "            Mt[2*i+1,2*i+1]=1.\n",
    "            \n",
    "        elif CL[i]==1:\n",
    "            K[2*i,:]=0.\n",
    "            K[2*i,2*i]=1.\n",
    "            Mt[2*i,:]=0.\n",
    "            Mt[2*i,2*i]=1.\n",
    "            \n",
    "            \n",
    "    U=np.linalg.solve(K,FA)\n",
    "    A=np.dot(np.linalg.inv(Mt),K)\n",
    "    \n",
    "    return U,A"
   ]
  },
  {
   "cell_type": "code",
   "execution_count": 51,
   "metadata": {
    "collapsed": true,
    "scrolled": true
   },
   "outputs": [],
   "source": [
    "U,A=assemblage(X,CL,FA,G,NA,Ne,Nb)"
   ]
  },
  {
   "cell_type": "code",
   "execution_count": 52,
   "metadata": {
    "collapsed": true
   },
   "outputs": [],
   "source": [
    "def save_res(nom_fichier,U):\n",
    "    F=open(nom_fichier,\"w\")\n",
    "    Nn=np.shape(U)[0]/2\n",
    "    np.savetxt(F,np.reshape(U,(Nn,2)))\n",
    "    F.close()\n",
    "    return\n",
    "save_res(\"deformation.txt\",U)"
   ]
  },
  {
   "cell_type": "code",
   "execution_count": 53,
   "metadata": {},
   "outputs": [
    {
     "data": {
      "image/png": "[encoded data removed]",
      "text/plain": [
       "<matplotlib.figure.Figure at 0x7fb94f503410>"
      ]
     },
     "metadata": {},
     "output_type": "display_data"
    }
   ],
   "source": [
    "F=open(\"deformation.txt\",\"r\")\n",
    "Xx=np.zeros((Ne,2))\n",
    "for i in range(Ne):\n",
    "    L=F.readline().split()\n",
    "    Xx[i,0]=L[0]\n",
    "    Xx[i,1]=L[1]\n",
    "Xx=Xx+X\n",
    "for i in range(Nb):\n",
    "    x1=Xx[G[i,0]-1,0]\n",
    "    x2=Xx[G[i,1]-1,0]\n",
    "    y1=Xx[G[i,0]-1,1]\n",
    "    y2=Xx[G[i,1]-1,1]\n",
    "    u1=X[G[i,0]-1,0]\n",
    "    u2=X[G[i,1]-1,0]\n",
    "    v1=X[G[i,0]-1,1]\n",
    "    v2=X[G[i,1]-1,1]\n",
    "    plt.plot([x1,x2],[y1,y2],color='g',linewidth=2.0)\n",
    "    plt.plot([u1,u2],[v1,v2],color='b',linewidth=2.0)\n",
    "#plt.savefig('deforme.png')"
   ]
  },
  {
   "cell_type": "code",
   "execution_count": 54,
   "metadata": {},
   "outputs": [
    {
     "name": "stdout",
     "output_type": "stream",
     "text": [
      "[  9.32733471e+04 +0.00000000e+00j   8.42059843e+04 +0.00000000e+00j\n",
      "   8.35321829e+04 +0.00000000e+00j   5.75649079e+04 +0.00000000e+00j\n",
      "   3.96636640e+03 +0.00000000e+00j   9.13909229e+03 +0.00000000e+00j\n",
      "   1.27723637e+04 +0.00000000e+00j   1.51821770e+04 +0.00000000e+00j\n",
      "   2.29594262e+04 +0.00000000e+00j   4.04675854e+04 +0.00000000e+00j\n",
      "   3.80447001e+04 +0.00000000e+00j   2.74744128e+04 +0.00000000e+00j\n",
      "   3.55534340e+04 +0.00000000e+00j   3.32861758e+04 +0.00000000e+00j\n",
      "   3.17014660e+04 +0.00000000e+00j   3.13117480e+04 +0.00000000e+00j\n",
      "   1.00000000e+00 +0.00000000e+00j   1.53717333e+04 +0.00000000e+00j\n",
      "   4.27889355e+04 +0.00000000e+00j   1.00000000e+00 +0.00000000e+00j\n",
      "   1.00000000e+00 +1.61167624e-12j   1.00000000e+00 -1.61167624e-12j\n",
      "   1.00000000e+00 +0.00000000e+00j   1.00000000e+00 +0.00000000e+00j]\n"
     ]
    }
   ],
   "source": [
    "D,V=np.linalg.eig(A)       #etude dynamique\n",
    "print D#,V                 #w²"
   ]
  }
 ],
 "metadata": {
  "kernelspec": {
   "display_name": "Python 2",
   "language": "python",
   "name": "python2"
  },
  "language_info": {
   "codemirror_mode": {
    "name": "ipython",
    "version": 2
   },
   "file_extension": ".py",
   "mimetype": "text/x-python",
   "name": "python",
   "nbconvert_exporter": "python",
   "pygments_lexer": "ipython2",
   "version": "2.7.9"
  }
 },
 "nbformat": 4,
 "nbformat_minor": 2
}
